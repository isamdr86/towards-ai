{
  "cells": [
    {
      "cell_type": "markdown",
      "metadata": {
        "id": "view-in-github",
        "colab_type": "text"
      },
      "source": [
        "<a href=\"https://colab.research.google.com/github/isamdr86/towards-ai/blob/main/notebooks/Structured(JSON)_PDF_Data_Extraction_ir.ipynb\" target=\"_parent\"><img src=\"https://colab.research.google.com/assets/colab-badge.svg\" alt=\"Open In Colab\"/></a>"
      ]
    },
    {
      "cell_type": "code",
      "execution_count": 1,
      "metadata": {
        "colab": {
          "base_uri": "https://localhost:8080/"
        },
        "collapsed": true,
        "id": "rCndQqynkNiQ",
        "outputId": "b6a61636-5348-40b9-f75f-108fe3e8252f"
      },
      "outputs": [
        {
          "output_type": "stream",
          "name": "stdout",
          "text": [
            "  Preparing metadata (setup.py) ... \u001b[?25l\u001b[?25hdone\n",
            "\u001b[2K   \u001b[90m━━━━━━━━━━━━━━━━━━━━━━━━━━━━━━━━━━━━━━━━\u001b[0m \u001b[32m150.7/150.7 kB\u001b[0m \u001b[31m4.4 MB/s\u001b[0m eta \u001b[36m0:00:00\u001b[0m\n",
            "\u001b[2K   \u001b[90m━━━━━━━━━━━━━━━━━━━━━━━━━━━━━━━━━━━━━━━━\u001b[0m \u001b[32m1.1/1.1 MB\u001b[0m \u001b[31m9.3 MB/s\u001b[0m eta \u001b[36m0:00:00\u001b[0m\n",
            "\u001b[2K   \u001b[90m━━━━━━━━━━━━━━━━━━━━━━━━━━━━━━━━━━━━━━━━\u001b[0m \u001b[32m679.1/679.1 kB\u001b[0m \u001b[31m9.4 MB/s\u001b[0m eta \u001b[36m0:00:00\u001b[0m\n",
            "\u001b[2K   \u001b[90m━━━━━━━━━━━━━━━━━━━━━━━━━━━━━━━━━━━━━━━━\u001b[0m \u001b[32m81.3/81.3 kB\u001b[0m \u001b[31m2.6 MB/s\u001b[0m eta \u001b[36m0:00:00\u001b[0m\n",
            "\u001b[2K   \u001b[90m━━━━━━━━━━━━━━━━━━━━━━━━━━━━━━━━━━━━━━━━\u001b[0m \u001b[32m1.6/1.6 MB\u001b[0m \u001b[31m17.9 MB/s\u001b[0m eta \u001b[36m0:00:00\u001b[0m\n",
            "\u001b[2K   \u001b[90m━━━━━━━━━━━━━━━━━━━━━━━━━━━━━━━━━━━━━━━━\u001b[0m \u001b[32m4.5/4.5 MB\u001b[0m \u001b[31m23.1 MB/s\u001b[0m eta \u001b[36m0:00:00\u001b[0m\n",
            "\u001b[2K   \u001b[90m━━━━━━━━━━━━━━━━━━━━━━━━━━━━━━━━━━━━━━━━\u001b[0m \u001b[32m49.3/49.3 kB\u001b[0m \u001b[31m1.5 MB/s\u001b[0m eta \u001b[36m0:00:00\u001b[0m\n",
            "\u001b[?25h  Building wheel for sgmllib3k (setup.py) ... \u001b[?25l\u001b[?25hdone\n"
          ]
        }
      ],
      "source": [
        "!pip install -q google-generativeai==0.5.4 openai tiktoken==0.7.0 llama-index-llms-gemini==0.1.10 arxiv"
      ]
    },
    {
      "cell_type": "code",
      "source": [
        "%%capture\n",
        "!pip install openai==1.55.3 httpx==0.27.2 --force-reinstall --quiet"
      ],
      "metadata": {
        "id": "u_JN1XhGOQ2e"
      },
      "execution_count": 2,
      "outputs": []
    },
    {
      "cell_type": "code",
      "source": [
        "import os\n",
        "os.kill(os.getpid(), 9)"
      ],
      "metadata": {
        "id": "tNHaPpQJOSwR"
      },
      "execution_count": null,
      "outputs": []
    },
    {
      "cell_type": "code",
      "execution_count": 3,
      "metadata": {
        "id": "PdAwk6gTsDA3"
      },
      "outputs": [],
      "source": [
        "import os\n",
        "# Set the \"OPENAI_API_KEY\" in the Python environment. Will be used by OpenAI client later.\n",
        "# os.environ[\"OPENAI_API_KEY\"] = \"[OPENAI_API_KEY]\"\n",
        "\n",
        "from google.colab import userdata\n",
        "os.environ[\"OPENAI_API_KEY\"] = userdata.get('openai_api_key')"
      ]
    },
    {
      "cell_type": "markdown",
      "source": [
        "### OpenAI Structured Output without `response_format`"
      ],
      "metadata": {
        "id": "Kk_QGIJLT8qY"
      }
    },
    {
      "cell_type": "code",
      "source": [
        "from openai import OpenAI\n",
        "client = OpenAI()"
      ],
      "metadata": {
        "id": "S_F_PrQCT6lp"
      },
      "execution_count": 4,
      "outputs": []
    },
    {
      "cell_type": "code",
      "source": [
        "system_prompt = \"\"\"\n",
        "You are a helpful assistant designed to output information exclusively in JSON format. Your response should contain only raw JSON data with no additional text, explanations, or comments. Do not include backticks (`) or any code block delimiters in your response.\n",
        "\n",
        "Always use the key `\"Top10BestSellingBooks\"` when listing top 10 best-selling books. Follow the specified JSON structure below:\n",
        "\n",
        "### JSON Format Example\n",
        "{\n",
        "  \"Top10BestSellingBooks\": [\n",
        "    {\n",
        "      \"title\": \"Book Title\",\n",
        "      \"author\": \"Author Name\",\n",
        "      \"yearPublished\": \"Year\",\n",
        "      \"summary\": \"Brief summary of the book.\"\n",
        "    },\n",
        "    {\n",
        "      \"title\": \"Book Title 2\",\n",
        "      \"author\": \"Author Name 2\",\n",
        "      \"yearPublished\": \"Year\",\n",
        "      \"summary\": \"Brief summary of the book.\"\n",
        "    }\n",
        "  ]\n",
        "}\n",
        "Always respond with clean JSON output that can be directly used with JSON parsers like `json.loads()`.\n",
        "\n",
        "\"\"\"\n",
        "\n",
        "prompt = \"Give me the names of the 10 best-selling books, their authors, the year they were published, and a concise summary in JSON format\"\n",
        "\n",
        "\n",
        "# Making the API call\n",
        "response = client.chat.completions.create(\n",
        "  model=\"gpt-4o-2024-08-06\",\n",
        "  temperature = 0,\n",
        "  messages=[\n",
        "    {\"role\": \"system\", \"content\":system_prompt},\n",
        "    {\"role\": \"user\", \"content\": prompt}\n",
        "  ]\n",
        ")\n",
        "print(response.choices[0].message.content)"
      ],
      "metadata": {
        "id": "gaCYqKDrT6Va",
        "outputId": "54adccce-b5e3-416e-da48-3a59dd135355",
        "colab": {
          "base_uri": "https://localhost:8080/"
        },
        "collapsed": true
      },
      "execution_count": 5,
      "outputs": [
        {
          "output_type": "stream",
          "name": "stdout",
          "text": [
            "{\n",
            "  \"Top10BestSellingBooks\": [\n",
            "    {\n",
            "      \"title\": \"Don Quixote\",\n",
            "      \"author\": \"Miguel de Cervantes\",\n",
            "      \"yearPublished\": \"1605\",\n",
            "      \"summary\": \"A Spanish novel about the adventures of a nobleman who reads so many chivalric romances that he loses his sanity and decides to become a knight-errant.\"\n",
            "    },\n",
            "    {\n",
            "      \"title\": \"A Tale of Two Cities\",\n",
            "      \"author\": \"Charles Dickens\",\n",
            "      \"yearPublished\": \"1859\",\n",
            "      \"summary\": \"A historical novel set in London and Paris before and during the French Revolution, focusing on themes of resurrection and transformation.\"\n",
            "    },\n",
            "    {\n",
            "      \"title\": \"The Lord of the Rings\",\n",
            "      \"author\": \"J.R.R. Tolkien\",\n",
            "      \"yearPublished\": \"1954\",\n",
            "      \"summary\": \"An epic fantasy novel that follows the quest to destroy the One Ring and defeat the Dark Lord Sauron.\"\n",
            "    },\n",
            "    {\n",
            "      \"title\": \"The Little Prince\",\n",
            "      \"author\": \"Antoine de Saint-Exupéry\",\n",
            "      \"yearPublished\": \"1943\",\n",
            "      \"summary\": \"A philosophical tale about a young prince who travels from planet to planet, learning about life and human nature.\"\n",
            "    },\n",
            "    {\n",
            "      \"title\": \"Harry Potter and the Philosopher's Stone\",\n",
            "      \"author\": \"J.K. Rowling\",\n",
            "      \"yearPublished\": \"1997\",\n",
            "      \"summary\": \"The first book in the Harry Potter series, introducing Harry as he discovers his magical heritage and attends Hogwarts School of Witchcraft and Wizardry.\"\n",
            "    },\n",
            "    {\n",
            "      \"title\": \"The Hobbit\",\n",
            "      \"author\": \"J.R.R. Tolkien\",\n",
            "      \"yearPublished\": \"1937\",\n",
            "      \"summary\": \"A fantasy novel about the journey of Bilbo Baggins, a hobbit who is reluctantly drawn into an epic quest to reclaim a treasure guarded by a dragon.\"\n",
            "    },\n",
            "    {\n",
            "      \"title\": \"And Then There Were None\",\n",
            "      \"author\": \"Agatha Christie\",\n",
            "      \"yearPublished\": \"1939\",\n",
            "      \"summary\": \"A mystery novel about ten strangers who are invited to an isolated island, where they are killed one by one.\"\n",
            "    },\n",
            "    {\n",
            "      \"title\": \"Dream of the Red Chamber\",\n",
            "      \"author\": \"Cao Xueqin\",\n",
            "      \"yearPublished\": \"1791\",\n",
            "      \"summary\": \"A Chinese novel that provides a detailed, episodic record of the lives of two branches of a wealthy family.\"\n",
            "    },\n",
            "    {\n",
            "      \"title\": \"The Lion, the Witch and the Wardrobe\",\n",
            "      \"author\": \"C.S. Lewis\",\n",
            "      \"yearPublished\": \"1950\",\n",
            "      \"summary\": \"A fantasy novel about four siblings who discover a magical land called Narnia, which is under the spell of an evil witch.\"\n",
            "    },\n",
            "    {\n",
            "      \"title\": \"The Da Vinci Code\",\n",
            "      \"author\": \"Dan Brown\",\n",
            "      \"yearPublished\": \"2003\",\n",
            "      \"summary\": \"A mystery thriller that follows symbologist Robert Langdon and cryptologist Sophie Neveu as they investigate a murder in Paris's Louvre Museum.\"\n",
            "    }\n",
            "  ]\n",
            "}\n"
          ]
        }
      ]
    },
    {
      "cell_type": "code",
      "source": [
        "import json\n",
        "\n",
        "result_book = json.loads(response.choices[0].message.content)\n",
        "\n",
        "print(type(result_book))\n",
        "\n",
        "print(result_book['Top10BestSellingBooks'][0])\n",
        "print(\"-------------------------------------\")\n",
        "print(result_book['Top10BestSellingBooks'][0]['title'])"
      ],
      "metadata": {
        "id": "hY1nUQ8QT6Rv",
        "outputId": "fd47d792-b152-4b07-f11f-c77c64ff10d9",
        "colab": {
          "base_uri": "https://localhost:8080/"
        }
      },
      "execution_count": 6,
      "outputs": [
        {
          "output_type": "stream",
          "name": "stdout",
          "text": [
            "<class 'dict'>\n",
            "{'title': 'Don Quixote', 'author': 'Miguel de Cervantes', 'yearPublished': '1605', 'summary': 'A Spanish novel about the adventures of a nobleman who reads so many chivalric romances that he loses his sanity and decides to become a knight-errant.'}\n",
            "-------------------------------------\n",
            "Don Quixote\n"
          ]
        }
      ]
    },
    {
      "cell_type": "markdown",
      "metadata": {
        "id": "2ZpYV-q0--QB"
      },
      "source": [
        "## OpenAI Strucutred output (JSON) with `response_format`"
      ]
    },
    {
      "cell_type": "code",
      "execution_count": 7,
      "metadata": {
        "id": "iH1CDNr30dtU"
      },
      "outputs": [],
      "source": [
        "from openai import OpenAI\n",
        "client = OpenAI()"
      ]
    },
    {
      "cell_type": "code",
      "execution_count": 8,
      "metadata": {
        "id": "8702bCYi9xpy"
      },
      "outputs": [],
      "source": [
        "prompt = \"Give me the names of the 10 best-selling books, their authors, the year they were published, and a concise summary in JSON format\""
      ]
    },
    {
      "cell_type": "code",
      "execution_count": 9,
      "metadata": {
        "id": "IlCRdRTQ9FNh"
      },
      "outputs": [],
      "source": [
        "# The response format- JSON schema\n",
        "response_format_json = {\n",
        "  \"type\": \"json_schema\",\n",
        "  \"json_schema\": {\n",
        "    \"name\": \"Top10BestSellingBooks\",\n",
        "    \"strict\": True,\n",
        "    \"schema\": {\n",
        "      \"type\": \"object\",\n",
        "      \"properties\": {\n",
        "        \"Top10BestSellingBooks\": {\n",
        "          \"type\": \"array\",\n",
        "          \"items\": {\n",
        "            \"type\": \"object\",\n",
        "            \"properties\": {\n",
        "              \"title\": { \"type\": \"string\" },\n",
        "              \"author\": { \"type\": \"string\" },\n",
        "              \"yearPublished\": { \"type\": \"integer\" },\n",
        "              \"summary\": { \"type\": \"string\" }\n",
        "            },\n",
        "\n",
        "            \"required\": [\"title\", \"author\", \"yearPublished\", \"summary\"],\n",
        "            \"additionalProperties\": False\n",
        "          }\n",
        "        }\n",
        "      },\n",
        "      \"required\": [\"Top10BestSellingBooks\"],\n",
        "      \"additionalProperties\": False\n",
        "    }\n",
        "  }\n",
        "}\n"
      ]
    },
    {
      "cell_type": "code",
      "source": [
        "system_prompt = \"\"\"\n",
        "You are a helpful assistant designed to output information exclusively in JSON format.\n",
        "### JSON Format Example\n",
        "{\n",
        "  \"Top10BestSellingBooks\": [\n",
        "    {\n",
        "      \"title\": \"Book Title\",\n",
        "      \"author\": \"Author Name\",\n",
        "      \"yearPublished\": \"Year\",\n",
        "      \"summary\": \"Brief summary of the book.\"\n",
        "    }\n",
        "  ]\n",
        "}\n",
        "\n",
        "\"\"\""
      ],
      "metadata": {
        "id": "BwcVCEOExNuL"
      },
      "execution_count": 10,
      "outputs": []
    },
    {
      "cell_type": "code",
      "execution_count": 11,
      "metadata": {
        "colab": {
          "base_uri": "https://localhost:8080/"
        },
        "collapsed": true,
        "id": "kY_AfQvR91Ei",
        "outputId": "94fe7126-2d13-4d16-8a3d-ef784e79c8e8"
      },
      "outputs": [
        {
          "output_type": "stream",
          "name": "stdout",
          "text": [
            "{\"Top10BestSellingBooks\":[{\"title\":\"Don Quixote\",\"author\":\"Miguel de Cervantes\",\"yearPublished\":1605,\"summary\":\"A Spanish novel about the adventures of a nobleman who reads so many chivalric romances that he loses his sanity and decides to become a knight-errant.\"},{\"title\":\"A Tale of Two Cities\",\"author\":\"Charles Dickens\",\"yearPublished\":1859,\"summary\":\"A historical novel set in London and Paris before and during the French Revolution, focusing on themes of resurrection and transformation.\"},{\"title\":\"The Lord of the Rings\",\"author\":\"J.R.R. Tolkien\",\"yearPublished\":1954,\"summary\":\"An epic fantasy novel that follows the quest to destroy the One Ring and defeat the Dark Lord Sauron.\"},{\"title\":\"The Little Prince\",\"author\":\"Antoine de Saint-Exupéry\",\"yearPublished\":1943,\"summary\":\"A philosophical tale about a young prince who travels from planet to planet, learning about life and human nature.\"},{\"title\":\"Harry Potter and the Philosopher's Stone\",\"author\":\"J.K. Rowling\",\"yearPublished\":1997,\"summary\":\"The first book in the Harry Potter series, introducing Harry as he discovers his magical heritage and attends Hogwarts School of Witchcraft and Wizardry.\"},{\"title\":\"The Hobbit\",\"author\":\"J.R.R. Tolkien\",\"yearPublished\":1937,\"summary\":\"A fantasy novel about the journey of Bilbo Baggins, a hobbit who is reluctantly drawn into an epic quest to reclaim a treasure guarded by a dragon.\"},{\"title\":\"And Then There Were None\",\"author\":\"Agatha Christie\",\"yearPublished\":1939,\"summary\":\"A mystery novel about ten strangers who are invited to an isolated island, where they are killed one by one.\"},{\"title\":\"Dream of the Red Chamber\",\"author\":\"Cao Xueqin\",\"yearPublished\":1791,\"summary\":\"A Chinese novel that provides a detailed, episodic record of the lives of two branches of a large, aristocratic family.\"},{\"title\":\"The Lion, the Witch and the Wardrobe\",\"author\":\"C.S. Lewis\",\"yearPublished\":1950,\"summary\":\"The first published book in The Chronicles of Narnia series, where four children enter a magical world and help Aslan, the lion, defeat the White Witch.\"},{\"title\":\"The Da Vinci Code\",\"author\":\"Dan Brown\",\"yearPublished\":2003,\"summary\":\"A mystery thriller that follows symbologist Robert Langdon and cryptologist Sophie Neveu as they investigate a murder in Paris's Louvre Museum.\"}]}\n"
          ]
        }
      ],
      "source": [
        "# Making the API call\n",
        "response = client.chat.completions.create(\n",
        "  model=\"gpt-4o-2024-08-06\",\n",
        "  response_format=response_format_json,\n",
        "  temperature = 0,\n",
        "  messages=[\n",
        "    {\"role\": \"system\", \"content\":system_prompt},\n",
        "    {\"role\": \"user\", \"content\": prompt}\n",
        "  ]\n",
        ")\n",
        "print(response.choices[0].message.content)"
      ]
    },
    {
      "cell_type": "code",
      "execution_count": 12,
      "metadata": {
        "colab": {
          "base_uri": "https://localhost:8080/"
        },
        "id": "lY4mHR4wQEzq",
        "outputId": "262c884c-fda7-47b3-9fef-7dff3061744e"
      },
      "outputs": [
        {
          "output_type": "stream",
          "name": "stdout",
          "text": [
            "<class 'str'>\n"
          ]
        }
      ],
      "source": [
        "print(type(response.choices[0].message.content))"
      ]
    },
    {
      "cell_type": "code",
      "execution_count": 13,
      "metadata": {
        "colab": {
          "base_uri": "https://localhost:8080/"
        },
        "id": "R_A_XRmV2VkU",
        "outputId": "68d0ce95-f274-4794-eaf5-365c0907417c"
      },
      "outputs": [
        {
          "output_type": "stream",
          "name": "stdout",
          "text": [
            "<class 'dict'>\n",
            "{'title': 'Don Quixote', 'author': 'Miguel de Cervantes', 'yearPublished': 1605, 'summary': 'A Spanish novel about the adventures of a nobleman who reads so many chivalric romances that he loses his sanity and decides to become a knight-errant.'}\n",
            "-------------------------------------\n",
            "Don Quixote\n"
          ]
        }
      ],
      "source": [
        "result_book = json.loads(response.choices[0].message.content)\n",
        "\n",
        "print(type(result_book))\n",
        "\n",
        "print(result_book['Top10BestSellingBooks'][0])\n",
        "print(\"-------------------------------------\")\n",
        "print(result_book['Top10BestSellingBooks'][0]['title'])"
      ]
    },
    {
      "cell_type": "markdown",
      "source": [
        "## Using Pydantic"
      ],
      "metadata": {
        "id": "cR0Ywi-VPU_B"
      }
    },
    {
      "cell_type": "code",
      "source": [
        "from pydantic import BaseModel\n",
        "from typing import List\n",
        "\n",
        "class Book(BaseModel):\n",
        "    title: str\n",
        "    author: str\n",
        "    yearPublished: int\n",
        "    summary: str\n",
        "\n",
        "class Top10BestSellingBooks(BaseModel):\n",
        "    books: List[Book]"
      ],
      "metadata": {
        "id": "vv62YqCPPUfA"
      },
      "execution_count": 16,
      "outputs": []
    },
    {
      "cell_type": "code",
      "source": [
        "response = client.beta.chat.completions.parse(\n",
        "    model=\"gpt-4o\",\n",
        "    response_format=Top10BestSellingBooks,\n",
        "    temperature = 0,\n",
        "    messages=[\n",
        "        {\"role\": \"system\", \"content\": \"You are a helpful assistant designed to output JSON.\"},\n",
        "        {\"role\": \"user\", \"content\": \"Give me the top 10 best-selling books of all time.\"}\n",
        "    ]\n",
        ")"
      ],
      "metadata": {
        "id": "nBDkykRuPcmD"
      },
      "execution_count": 19,
      "outputs": []
    },
    {
      "cell_type": "code",
      "source": [
        "print(type(response.choices[0].message.content))"
      ],
      "metadata": {
        "id": "a_BOrRSyPlK-",
        "outputId": "f18a7dba-b69d-4159-eebb-2add73538a45",
        "colab": {
          "base_uri": "https://localhost:8080/"
        }
      },
      "execution_count": 21,
      "outputs": [
        {
          "output_type": "stream",
          "name": "stdout",
          "text": [
            "<class 'str'>\n"
          ]
        }
      ]
    },
    {
      "cell_type": "code",
      "source": [
        "result_book = json.loads(response.choices[0].message.content)\n",
        "\n",
        "print(type(result_book))\n",
        "print(result_book)\n",
        "\n",
        "print(result_book['books'][0])\n",
        "print(\"-------------------------------------\")\n",
        "print(result_book['books'][0]['title'])"
      ],
      "metadata": {
        "id": "VZcgosE6PuXK",
        "outputId": "4d14c260-8ac6-449c-af63-4190a547ec86",
        "colab": {
          "base_uri": "https://localhost:8080/"
        }
      },
      "execution_count": 24,
      "outputs": [
        {
          "output_type": "stream",
          "name": "stdout",
          "text": [
            "<class 'dict'>\n",
            "{'books': [{'title': 'Don Quixote', 'author': 'Miguel de Cervantes', 'yearPublished': 1605, 'summary': 'A Spanish novel that follows the adventures of a nobleman who reads so many chivalric romances that he loses his sanity and decides to become a knight-errant.'}, {'title': 'A Tale of Two Cities', 'author': 'Charles Dickens', 'yearPublished': 1859, 'summary': 'A historical novel set in London and Paris before and during the French Revolution, focusing on themes of resurrection and transformation.'}, {'title': 'The Lord of the Rings', 'author': 'J.R.R. Tolkien', 'yearPublished': 1954, 'summary': 'An epic fantasy novel that follows the quest to destroy the One Ring and defeat the Dark Lord Sauron.'}, {'title': 'The Little Prince', 'author': 'Antoine de Saint-Exupéry', 'yearPublished': 1943, 'summary': 'A novella that tells the story of a young prince who travels from planet to planet, learning about life and human nature.'}, {'title': \"Harry Potter and the Philosopher's Stone\", 'author': 'J.K. Rowling', 'yearPublished': 1997, 'summary': 'The first book in the Harry Potter series, introducing the young wizard Harry Potter and his adventures at Hogwarts School of Witchcraft and Wizardry.'}, {'title': 'The Hobbit', 'author': 'J.R.R. Tolkien', 'yearPublished': 1937, 'summary': 'A fantasy novel that follows the journey of Bilbo Baggins, a hobbit who is reluctantly drawn into an epic quest to reclaim a treasure guarded by a dragon.'}, {'title': 'And Then There Were None', 'author': 'Agatha Christie', 'yearPublished': 1939, 'summary': 'A mystery novel about ten strangers who are invited to an isolated island, where they are killed one by one.'}, {'title': 'Dream of the Red Chamber', 'author': 'Cao Xueqin', 'yearPublished': 1791, 'summary': 'A Chinese novel that provides a detailed, episodic record of the lives of two branches of a large, aristocratic family.'}, {'title': 'The Lion, the Witch and the Wardrobe', 'author': 'C.S. Lewis', 'yearPublished': 1950, 'summary': 'The first published book in The Chronicles of Narnia series, where four children discover a magical land through a wardrobe.'}, {'title': 'The Da Vinci Code', 'author': 'Dan Brown', 'yearPublished': 2003, 'summary': \"A mystery thriller novel that follows symbologist Robert Langdon and cryptologist Sophie Neveu as they investigate a murder in Paris's Louvre Museum.\"}]}\n",
            "{'title': 'Don Quixote', 'author': 'Miguel de Cervantes', 'yearPublished': 1605, 'summary': 'A Spanish novel that follows the adventures of a nobleman who reads so many chivalric romances that he loses his sanity and decides to become a knight-errant.'}\n",
            "-------------------------------------\n",
            "Don Quixote\n"
          ]
        }
      ]
    },
    {
      "cell_type": "markdown",
      "metadata": {
        "id": "nISPPdFA1WvX"
      },
      "source": [
        "## Strucutred output from PDF + OpenAI + pdf2images"
      ]
    },
    {
      "cell_type": "code",
      "execution_count": 14,
      "metadata": {
        "colab": {
          "base_uri": "https://localhost:8080/"
        },
        "collapsed": true,
        "id": "HGxeZqCQ28bi",
        "outputId": "662e22c5-c044-4d03-bda8-b5193aaae1c2"
      },
      "outputs": [
        {
          "output_type": "stream",
          "name": "stdout",
          "text": [
            "Reading package lists... Done\n",
            "Building dependency tree... Done\n",
            "Reading state information... Done\n",
            "The following NEW packages will be installed:\n",
            "  poppler-utils\n",
            "0 upgraded, 1 newly installed, 0 to remove and 49 not upgraded.\n",
            "Need to get 186 kB of archives.\n",
            "After this operation, 696 kB of additional disk space will be used.\n",
            "Get:1 http://archive.ubuntu.com/ubuntu jammy-updates/main amd64 poppler-utils amd64 22.02.0-2ubuntu0.5 [186 kB]\n",
            "Fetched 186 kB in 0s (772 kB/s)\n",
            "Selecting previously unselected package poppler-utils.\n",
            "(Reading database ... 123632 files and directories currently installed.)\n",
            "Preparing to unpack .../poppler-utils_22.02.0-2ubuntu0.5_amd64.deb ...\n",
            "Unpacking poppler-utils (22.02.0-2ubuntu0.5) ...\n",
            "Setting up poppler-utils (22.02.0-2ubuntu0.5) ...\n",
            "Processing triggers for man-db (2.10.2-1) ...\n"
          ]
        }
      ],
      "source": [
        "!pip install -q -U pdf2image\n",
        "!apt-get install poppler-utils"
      ]
    },
    {
      "cell_type": "code",
      "source": [
        "from huggingface_hub import hf_hub_download\n",
        "file_path = hf_hub_download(repo_id=\"jaiganesan/ai_tutor_knowledge\", filename=\"rag_research_paper.zip\",repo_type=\"dataset\",local_dir=\"/content\")"
      ],
      "metadata": {
        "colab": {
          "base_uri": "https://localhost:8080/",
          "height": 171,
          "referenced_widgets": [
            "375940ed2d3d44479ae8904509b36fea",
            "e0190161491941be82d3158649c57334",
            "cd5fdc384e6e420eb11064b617031a8c",
            "a4e225cac67f4dd58ad787d7bfd0ba99",
            "0092932d0abf40fe930d08d23ad06710",
            "b8f30bb992dc45f3877c2119946a896b",
            "a82e14a238674307affd209e05c199e6",
            "a4442c47573b419faab325db644155c6",
            "1fd8082fab544aea97a3e63573cf99fe",
            "2aee5aa5292a4d09a7bf003e18f107c3",
            "81ae7bd03e23417fb0449823066afef6"
          ]
        },
        "id": "n3QpOuoOiMvB",
        "outputId": "2c4c1cb1-ce7f-48f4-d1b3-9baab7159ebd"
      },
      "execution_count": 15,
      "outputs": [
        {
          "output_type": "stream",
          "name": "stderr",
          "text": [
            "/usr/local/lib/python3.10/dist-packages/huggingface_hub/utils/_auth.py:94: UserWarning: \n",
            "The secret `HF_TOKEN` does not exist in your Colab secrets.\n",
            "To authenticate with the Hugging Face Hub, create a token in your settings tab (https://huggingface.co/settings/tokens), set it as secret in your Google Colab and restart your session.\n",
            "You will be able to reuse this secret in all of your notebooks.\n",
            "Please note that authentication is recommended but still optional to access public models or datasets.\n",
            "  warnings.warn(\n"
          ]
        },
        {
          "output_type": "display_data",
          "data": {
            "text/plain": [
              "rag_research_paper.zip:   0%|          | 0.00/7.51M [00:00<?, ?B/s]"
            ],
            "application/vnd.jupyter.widget-view+json": {
              "version_major": 2,
              "version_minor": 0,
              "model_id": "375940ed2d3d44479ae8904509b36fea"
            }
          },
          "metadata": {}
        }
      ]
    },
    {
      "cell_type": "code",
      "execution_count": 25,
      "metadata": {
        "colab": {
          "base_uri": "https://localhost:8080/"
        },
        "id": "ZgQt32r8V50j",
        "outputId": "2893a33f-1b1d-4c70-e800-8a9a75efc77a"
      },
      "outputs": [
        {
          "output_type": "stream",
          "name": "stdout",
          "text": [
            "Archive:  /content/rag_research_paper.zip\n",
            "   creating: /content/rag_research_paper/\n",
            "  inflating: /content/rag_research_paper/2405.07437v2.pdf  \n",
            "  inflating: /content/rag_research_paper/2407.01219v1.pdf  \n",
            "  inflating: /content/rag_research_paper/2407.07858v1.pdf  \n",
            "  inflating: /content/rag_research_paper/2407.08223v1.pdf  \n",
            "  inflating: /content/rag_research_paper/2407.16833v1.pdf  \n",
            "  inflating: /content/rag_research_paper/2407.21712v1.pdf  \n",
            "  inflating: /content/rag_research_paper/2408.08067v2.pdf  \n",
            "  inflating: /content/rag_research_paper/2408.08921v1.pdf  \n"
          ]
        }
      ],
      "source": [
        "!unzip /content/rag_research_paper.zip -d /content/"
      ]
    },
    {
      "cell_type": "code",
      "execution_count": 26,
      "metadata": {
        "colab": {
          "base_uri": "https://localhost:8080/"
        },
        "id": "_lFWZkMuaZHS",
        "outputId": "5c78258f-6d16-47af-d865-907d7c44fa1a"
      },
      "outputs": [
        {
          "output_type": "stream",
          "name": "stdout",
          "text": [
            "['/content/pages/2408.08921v1/page-001.png', '/content/pages/2408.08921v1/page-002.png', '/content/pages/2408.08921v1/page-003.png', '/content/pages/2408.08921v1/page-004.png', '/content/pages/2408.08921v1/page-005.png', '/content/pages/2408.08921v1/page-006.png', '/content/pages/2408.08921v1/page-007.png', '/content/pages/2408.08921v1/page-008.png', '/content/pages/2408.08921v1/page-009.png', '/content/pages/2408.08921v1/page-010.png', '/content/pages/2408.08921v1/page-011.png', '/content/pages/2408.08921v1/page-012.png', '/content/pages/2408.08921v1/page-013.png', '/content/pages/2408.08921v1/page-014.png', '/content/pages/2408.08921v1/page-015.png', '/content/pages/2408.08921v1/page-016.png', '/content/pages/2408.08921v1/page-017.png', '/content/pages/2408.08921v1/page-018.png', '/content/pages/2408.08921v1/page-019.png', '/content/pages/2408.08921v1/page-020.png', '/content/pages/2408.08921v1/page-021.png', '/content/pages/2408.08921v1/page-022.png', '/content/pages/2408.08921v1/page-023.png', '/content/pages/2408.08921v1/page-024.png', '/content/pages/2408.08921v1/page-025.png', '/content/pages/2408.08921v1/page-026.png', '/content/pages/2408.08921v1/page-027.png', '/content/pages/2408.08921v1/page-028.png', '/content/pages/2408.08921v1/page-029.png', '/content/pages/2408.08921v1/page-030.png', '/content/pages/2408.08921v1/page-031.png', '/content/pages/2408.08921v1/page-032.png', '/content/pages/2408.08921v1/page-033.png', '/content/pages/2408.08921v1/page-034.png', '/content/pages/2408.08921v1/page-035.png', '/content/pages/2408.08921v1/page-036.png', '/content/pages/2408.08921v1/page-037.png', '/content/pages/2408.08921v1/page-038.png', '/content/pages/2408.08921v1/page-039.png', '/content/pages/2408.08921v1/page-040.png', '/content/pages/2407.07858v1/page-001.png', '/content/pages/2407.07858v1/page-002.png', '/content/pages/2407.07858v1/page-003.png', '/content/pages/2407.07858v1/page-004.png', '/content/pages/2407.07858v1/page-005.png', '/content/pages/2407.07858v1/page-006.png', '/content/pages/2407.07858v1/page-007.png', '/content/pages/2407.07858v1/page-008.png', '/content/pages/2407.01219v1/page-001.png', '/content/pages/2407.01219v1/page-002.png', '/content/pages/2407.01219v1/page-003.png', '/content/pages/2407.01219v1/page-004.png', '/content/pages/2407.01219v1/page-005.png', '/content/pages/2407.01219v1/page-006.png', '/content/pages/2407.01219v1/page-007.png', '/content/pages/2407.01219v1/page-008.png', '/content/pages/2407.01219v1/page-009.png', '/content/pages/2407.01219v1/page-010.png', '/content/pages/2407.01219v1/page-011.png', '/content/pages/2407.01219v1/page-012.png', '/content/pages/2407.01219v1/page-013.png', '/content/pages/2407.01219v1/page-014.png', '/content/pages/2407.01219v1/page-015.png', '/content/pages/2407.01219v1/page-016.png', '/content/pages/2407.01219v1/page-017.png', '/content/pages/2407.01219v1/page-018.png', '/content/pages/2407.01219v1/page-019.png', '/content/pages/2407.01219v1/page-020.png', '/content/pages/2407.01219v1/page-021.png', '/content/pages/2407.01219v1/page-022.png', '/content/pages/2405.07437v2/page-001.png', '/content/pages/2405.07437v2/page-002.png', '/content/pages/2405.07437v2/page-003.png', '/content/pages/2405.07437v2/page-004.png', '/content/pages/2405.07437v2/page-005.png', '/content/pages/2405.07437v2/page-006.png', '/content/pages/2405.07437v2/page-007.png', '/content/pages/2405.07437v2/page-008.png', '/content/pages/2405.07437v2/page-009.png', '/content/pages/2405.07437v2/page-010.png', '/content/pages/2405.07437v2/page-011.png', '/content/pages/2405.07437v2/page-012.png', '/content/pages/2405.07437v2/page-013.png', '/content/pages/2405.07437v2/page-014.png', '/content/pages/2405.07437v2/page-015.png', '/content/pages/2405.07437v2/page-016.png', '/content/pages/2405.07437v2/page-017.png', '/content/pages/2405.07437v2/page-018.png', '/content/pages/2405.07437v2/page-019.png', '/content/pages/2405.07437v2/page-020.png', '/content/pages/2405.07437v2/page-021.png', '/content/pages/2407.08223v1/page-001.png', '/content/pages/2407.08223v1/page-002.png', '/content/pages/2407.08223v1/page-003.png', '/content/pages/2407.08223v1/page-004.png', '/content/pages/2407.08223v1/page-005.png', '/content/pages/2407.08223v1/page-006.png', '/content/pages/2407.08223v1/page-007.png', '/content/pages/2407.08223v1/page-008.png', '/content/pages/2407.08223v1/page-009.png', '/content/pages/2407.08223v1/page-010.png', '/content/pages/2407.08223v1/page-011.png', '/content/pages/2407.08223v1/page-012.png', '/content/pages/2407.08223v1/page-013.png', '/content/pages/2407.08223v1/page-014.png', '/content/pages/2407.08223v1/page-015.png', '/content/pages/2407.08223v1/page-016.png', '/content/pages/2407.08223v1/page-017.png', '/content/pages/2407.16833v1/page-001.png', '/content/pages/2407.16833v1/page-002.png', '/content/pages/2407.16833v1/page-003.png', '/content/pages/2407.16833v1/page-004.png', '/content/pages/2407.16833v1/page-005.png', '/content/pages/2407.16833v1/page-006.png', '/content/pages/2407.16833v1/page-007.png', '/content/pages/2407.16833v1/page-008.png', '/content/pages/2407.16833v1/page-009.png', '/content/pages/2407.16833v1/page-010.png', '/content/pages/2407.16833v1/page-011.png', '/content/pages/2407.16833v1/page-012.png', '/content/pages/2408.08067v2/page-001.png', '/content/pages/2408.08067v2/page-002.png', '/content/pages/2408.08067v2/page-003.png', '/content/pages/2408.08067v2/page-004.png', '/content/pages/2408.08067v2/page-005.png', '/content/pages/2408.08067v2/page-006.png', '/content/pages/2408.08067v2/page-007.png', '/content/pages/2408.08067v2/page-008.png', '/content/pages/2408.08067v2/page-009.png', '/content/pages/2408.08067v2/page-010.png', '/content/pages/2408.08067v2/page-011.png', '/content/pages/2408.08067v2/page-012.png', '/content/pages/2408.08067v2/page-013.png', '/content/pages/2408.08067v2/page-014.png', '/content/pages/2408.08067v2/page-015.png', '/content/pages/2408.08067v2/page-016.png', '/content/pages/2408.08067v2/page-017.png', '/content/pages/2408.08067v2/page-018.png', '/content/pages/2408.08067v2/page-019.png', '/content/pages/2408.08067v2/page-020.png', '/content/pages/2408.08067v2/page-021.png', '/content/pages/2408.08067v2/page-022.png', '/content/pages/2408.08067v2/page-023.png', '/content/pages/2408.08067v2/page-024.png', '/content/pages/2408.08067v2/page-025.png', '/content/pages/2408.08067v2/page-026.png', '/content/pages/2408.08067v2/page-027.png', '/content/pages/2407.21712v1/page-001.png', '/content/pages/2407.21712v1/page-002.png', '/content/pages/2407.21712v1/page-003.png', '/content/pages/2407.21712v1/page-004.png', '/content/pages/2407.21712v1/page-005.png', '/content/pages/2407.21712v1/page-006.png', '/content/pages/2407.21712v1/page-007.png', '/content/pages/2407.21712v1/page-008.png', '/content/pages/2407.21712v1/page-009.png', '/content/pages/2407.21712v1/page-010.png', '/content/pages/2407.21712v1/page-011.png', '/content/pages/2407.21712v1/page-012.png']\n"
          ]
        }
      ],
      "source": [
        "import os\n",
        "from pdf2image import convert_from_path\n",
        "\n",
        "pdf_directory = \"/content/rag_research_paper\"\n",
        "output_dir = \"/content/pages\"\n",
        "os.makedirs(output_dir, exist_ok=True)\n",
        "\n",
        "pages_png = []\n",
        "\n",
        "for pdf_file in os.listdir(pdf_directory):\n",
        "    if pdf_file.endswith(\".pdf\"):\n",
        "        pdf_path = os.path.join(pdf_directory, pdf_file)\n",
        "\n",
        "        convert = convert_from_path(pdf_path, use_pdftocairo=True)\n",
        "\n",
        "        pdf_output_dir = os.path.join(output_dir, os.path.splitext(pdf_file)[0])\n",
        "        os.makedirs(pdf_output_dir, exist_ok=True)\n",
        "\n",
        "        for page_num, image in enumerate(convert):\n",
        "            page_filename = f\"page-{str(page_num + 1).zfill(3)}.png\"\n",
        "            full_path = os.path.join(pdf_output_dir, page_filename)\n",
        "            image.save(full_path)\n",
        "\n",
        "            pages_png.append(full_path)\n",
        "\n",
        "print(pages_png)"
      ]
    },
    {
      "cell_type": "code",
      "execution_count": 27,
      "metadata": {
        "id": "eo5qbcZ6-IHN"
      },
      "outputs": [],
      "source": [
        "from io import BytesIO\n",
        "import base64\n",
        "import json\n",
        "\n",
        "# Function to encode the image\n",
        "\n",
        "def encode_image(image_path):\n",
        "\n",
        "  with open(image_path, \"rb\") as image_file:\n",
        "    return base64.b64encode(image_file.read()).decode('utf-8')"
      ]
    },
    {
      "cell_type": "code",
      "source": [
        "system_instruction_prompt =\"\"\"\n",
        "You are an expert in extracting structured data from research paper images.\n",
        "\n",
        "Task Description:\n",
        "Extract comprehensive information from PDF research paper images, including all headlines, content, and visual elements.\n",
        "Preserve complete information without fragmentation.\n",
        "\n",
        "Must Follow Guideline: Extract all text and information accurately from each image provided. Organize content into multiple\n",
        "JSON objects when appropriate, based on the amount and type of content. Each JSON should clearly reflect distinct content\n",
        "sections for streamlined analysis\n",
        "\n",
        "Content Requirements:\n",
        "1. Missing Headlines\n",
        "- If no visible headline exists, generate appropriate ones based on content\n",
        "- Group related content under these generated headlines\n",
        "\n",
        "2. Visual Elements\n",
        "For figures, graphs, tables, and architectures:\n",
        "- Extract title/caption\n",
        "- Describe main trends and comparisons\n",
        "- Detail architecture designs\n",
        "- Include related insights from surrounding text\n",
        "\n",
        "3. Text Processing\n",
        "- Extract complete sentences without summarization\n",
        "- Maintain original detail level\n",
        "- Merge fragmented content logically\n",
        "- Preserve all technical information\n",
        "\n",
        "Required output Format (JSON):\n",
        "[\n",
        "{\n",
        "    \"source\": \"Extract complete arXiv ID including prefix (e.g., arXiv:2405.07437v2).\n",
        "               Verify ID accuracy multiple times. if there is no Arxiv ID return None\",\n",
        "\n",
        "    \"name\": \"Extract or generate all headlines and subheadlines (e.g., Abstract,\n",
        "            Introduction, Methods, etc). Include section titles and subsection headings.\",\n",
        "\n",
        "    \"content\": \"For each section:\n",
        "                - Complete text content\n",
        "                - Visual element descriptions\n",
        "                - Figure/graph details:\n",
        "                  * Title/caption\n",
        "                  * Description\n",
        "                  * Key trends/comparisons\n",
        "                  * Architecture details\n",
        "                  * Related insights\"\n",
        "},\n",
        "]\n",
        "\n",
        "Key Guidelines:\n",
        "- Extract exact content without summarization\n",
        "- Ensure accuracy in complex technical details\n",
        "- Maintain logical content organization\n",
        "- Include complete visual element analysis\n",
        "\"\"\""
      ],
      "metadata": {
        "id": "f1Ogn8R7E5WZ"
      },
      "execution_count": 29,
      "outputs": []
    },
    {
      "cell_type": "code",
      "execution_count": 28,
      "metadata": {
        "id": "HPKc_1JkwQfd"
      },
      "outputs": [],
      "source": [
        "# The response format- JSON schema\n",
        "json_response_format = {\n",
        "  \"type\": \"json_schema\",\n",
        "  \"json_schema\": {\n",
        "    \"name\": \"research_paper_data\",\n",
        "    \"strict\": True,\n",
        "    \"schema\": {\n",
        "      \"type\": \"object\",\n",
        "      \"properties\": {\n",
        "        \"research_paper_data\": {\n",
        "          \"type\": \"array\",\n",
        "          \"items\": {\n",
        "            \"type\": \"object\",\n",
        "            \"properties\": {\n",
        "                \"name\": { \"type\": \"string\" },\n",
        "                \"source\": { \"type\": \"string\" },\n",
        "                \"content\": { \"type\": \"string\"},\n",
        "\n",
        "            },\n",
        "\n",
        "            \"required\": [\"name\", \"source\", \"content\"],\n",
        "            \"additionalProperties\": False\n",
        "          }\n",
        "        },\n",
        "      },\n",
        "      \"required\": [\"research_paper_data\"],\n",
        "      \"additionalProperties\": False\n",
        "    }\n",
        "  }\n",
        "}\n"
      ]
    },
    {
      "cell_type": "code",
      "execution_count": 30,
      "metadata": {
        "id": "WcyxZ3hee4O2"
      },
      "outputs": [],
      "source": [
        "import arxiv\n",
        "import re\n",
        "\n",
        "def arxiv_extraction(arxiv_id):\n",
        "  client = arxiv.Client()\n",
        "  search = arxiv.Search(id_list=re.findall(r'(\\d{4}\\.\\d{5}|\\w+(?:-\\w+)?/\\d{7})', arxiv_id), max_results=1)\n",
        "  results = client.results(search)\n",
        "\n",
        "  for result in results:\n",
        "    return result.title, result.pdf_url"
      ]
    },
    {
      "cell_type": "code",
      "execution_count": null,
      "metadata": {
        "id": "GrpPrN3vv6dk"
      },
      "outputs": [],
      "source": [
        "import json\n",
        "from openai import OpenAI\n",
        "client = OpenAI()\n",
        "\n",
        "desc = []\n",
        "\n",
        "\n",
        "for page in pages_png:\n",
        "  # Getting the base64\n",
        "  base64_image = encode_image(page)\n",
        "\n",
        "  try:\n",
        "\n",
        "    response = client.chat.completions.create(\n",
        "        model=\"gpt-4o-2024-08-06\",\n",
        "        response_format = json_response_format,\n",
        "        temperature = 0,\n",
        "        messages= [\n",
        "              {\"role\": \"system\",\"content\":system_instruction_prompt},\n",
        "              {\"role\": \"user\",\"content\": [{\"type\": \"text\", \"text\": \"Extract the content from this research paper image.\"},\n",
        "                                          {\"type\": \"image_url\",\"image_url\": {\"url\":f\"data:image/jpeg;base64,{base64_image}\",\n",
        "                                                                              \"detail\": \"high\"}}\n",
        "                                          ]\n",
        "                  }\n",
        "                  ],\n",
        "      )\n",
        "\n",
        "    if response.choices[0].message.content is None:\n",
        "      continue\n",
        "\n",
        "    result = json.loads(response.choices[0].message.content)\n",
        "\n",
        "    if 'page-001' in page:\n",
        "      # Or You can use the Image path to extract the Arxiv Research paper ID.\n",
        "      research_paper_id = result['research_paper_data'][0]['source']\n",
        "      research_paper_title, research_paper_url = arxiv_extraction(research_paper_id)\n",
        "\n",
        "      for i in range(len(result['research_paper_data'])):\n",
        "        result['research_paper_data'][i]['source'] = research_paper_id\n",
        "        result['research_paper_data'][i]['name'] = research_paper_title +\":\"+ result['research_paper_data'][i]['name']\n",
        "        result['research_paper_data'][i]['url'] = research_paper_url\n",
        "\n",
        "    if 'page-001' not in page:\n",
        "      for i in range(len(result['research_paper_data'])):\n",
        "        result['research_paper_data'][i]['source'] = research_paper_id\n",
        "        result['research_paper_data'][i]['name'] = research_paper_title +\":\"+ result['research_paper_data'][i]['name']\n",
        "        result['research_paper_data'][i]['url'] = research_paper_url\n",
        "\n",
        "    desc.extend(result['research_paper_data'])\n",
        "\n",
        "  except Exception as e:\n",
        "    print(response.choices[0].finish_reason)\n",
        "    print(f\"Skipping {page}... error: {e}\")\n",
        "    break"
      ]
    },
    {
      "cell_type": "code",
      "execution_count": null,
      "metadata": {
        "id": "rPlZyDWXfJhx"
      },
      "outputs": [],
      "source": [
        "len(desc)"
      ]
    },
    {
      "cell_type": "code",
      "execution_count": null,
      "metadata": {
        "id": "TNd7zjLZmHU_",
        "collapsed": true
      },
      "outputs": [],
      "source": [
        "print(\"Content research paper title and Headline :\",desc[0]['name'],\"\\n\")\n",
        "print(\"Content :\",desc[0]['content'],\"\\n\")\n",
        "print(\"Source :\",desc[0]['source'],\"\\n\")\n",
        "print(\"URL :\",desc[0]['url'])"
      ]
    },
    {
      "cell_type": "code",
      "source": [
        "desc[1]"
      ],
      "metadata": {
        "id": "HuKCik2njQlh"
      },
      "execution_count": null,
      "outputs": []
    },
    {
      "cell_type": "code",
      "source": [
        "source=[]\n",
        "for i in range(len(desc)):\n",
        "  source.append(desc[i]['source'])\n",
        "\n",
        "source=list(set(source))\n",
        "source"
      ],
      "metadata": {
        "id": "WcIr06B_8HG6"
      },
      "execution_count": null,
      "outputs": []
    },
    {
      "cell_type": "markdown",
      "metadata": {
        "id": "P64zuFRHub8H"
      },
      "source": [
        "\n",
        "\n",
        "---\n",
        "\n"
      ]
    },
    {
      "cell_type": "code",
      "source": [
        "# To incldue Generated response with collected content\n",
        "import json\n",
        "with open(\"/content/ai_tutor_500.jsonl\", \"r\") as file:\n",
        "    result = [json.loads(line) for line in file]\n",
        "\n",
        "result[1]"
      ],
      "metadata": {
        "id": "e3moEdG_EpX7",
        "collapsed": true
      },
      "execution_count": null,
      "outputs": []
    },
    {
      "cell_type": "code",
      "source": [
        "result[1]['tokens']"
      ],
      "metadata": {
        "id": "eHWri74kx-22"
      },
      "execution_count": null,
      "outputs": []
    },
    {
      "cell_type": "code",
      "source": [
        "import tiktoken\n",
        "import uuid\n",
        "\n",
        "def token_encoding_and_doc_id(content):\n",
        "  encoding = tiktoken.get_encoding(\"cl100k_base\")\n",
        "  tokens = encoding.encode(content)\n",
        "\n",
        "  num_tokens = len(tokens)\n",
        "  doc_id = str(uuid.uuid5(uuid.NAMESPACE_DNS, content))\n",
        "\n",
        "  return num_tokens, doc_id\n",
        "\n",
        "for i in range(len(desc)):\n",
        "  desc[i]['tokens'], desc[i]['doc_id'] = token_encoding_and_doc_id(desc[i]['content'])\n",
        "\n",
        "for i in range(len(result)):\n",
        "  result[i]['tokens'], result[i]['doc_id'] = token_encoding_and_doc_id(result[i]['content'])"
      ],
      "metadata": {
        "id": "qMMsh0DsmTJ4"
      },
      "execution_count": null,
      "outputs": []
    },
    {
      "cell_type": "code",
      "source": [
        "ai_tutor_knowledge = result + desc"
      ],
      "metadata": {
        "id": "ScadYbE-xnl8"
      },
      "execution_count": null,
      "outputs": []
    },
    {
      "cell_type": "code",
      "source": [
        "ai_tutor_knowledge[850]"
      ],
      "metadata": {
        "id": "Cx_w2XckxpFo"
      },
      "execution_count": null,
      "outputs": []
    },
    {
      "cell_type": "code",
      "source": [
        "ai_tutor_knowledge = [d for d in ai_tutor_knowledge if d['tokens'] > 100]"
      ],
      "metadata": {
        "id": "W4U1ct2h4a2H"
      },
      "execution_count": null,
      "outputs": []
    },
    {
      "cell_type": "code",
      "source": [
        "with open('/content/ai_tutor_knowledge.jsonl', 'w') as f:\n",
        "    for item in ai_tutor_knowledge:\n",
        "        f.write(json.dumps(item) + '\\n')\n",
        "\n",
        "print(\"JSONL file saved successfully!\")"
      ],
      "metadata": {
        "id": "XvEaPAe9Lir2"
      },
      "execution_count": null,
      "outputs": []
    },
    {
      "cell_type": "code",
      "source": [
        "from google.colab import files\n",
        "files.download('/content/ai_tutor_knowledge.jsonl')"
      ],
      "metadata": {
        "id": "B4RWqf0bdHnq"
      },
      "execution_count": null,
      "outputs": []
    },
    {
      "cell_type": "markdown",
      "metadata": {
        "id": "CFdK63RdjaHr"
      },
      "source": [
        "------------"
      ]
    }
  ],
  "metadata": {
    "colab": {
      "provenance": [],
      "include_colab_link": true
    },
    "kernelspec": {
      "display_name": "Python 3",
      "name": "python3"
    },
    "language_info": {
      "name": "python"
    },
    "widgets": {
      "application/vnd.jupyter.widget-state+json": {
        "375940ed2d3d44479ae8904509b36fea": {
          "model_module": "@jupyter-widgets/controls",
          "model_name": "HBoxModel",
          "model_module_version": "1.5.0",
          "state": {
            "_dom_classes": [],
            "_model_module": "@jupyter-widgets/controls",
            "_model_module_version": "1.5.0",
            "_model_name": "HBoxModel",
            "_view_count": null,
            "_view_module": "@jupyter-widgets/controls",
            "_view_module_version": "1.5.0",
            "_view_name": "HBoxView",
            "box_style": "",
            "children": [
              "IPY_MODEL_e0190161491941be82d3158649c57334",
              "IPY_MODEL_cd5fdc384e6e420eb11064b617031a8c",
              "IPY_MODEL_a4e225cac67f4dd58ad787d7bfd0ba99"
            ],
            "layout": "IPY_MODEL_0092932d0abf40fe930d08d23ad06710"
          }
        },
        "e0190161491941be82d3158649c57334": {
          "model_module": "@jupyter-widgets/controls",
          "model_name": "HTMLModel",
          "model_module_version": "1.5.0",
          "state": {
            "_dom_classes": [],
            "_model_module": "@jupyter-widgets/controls",
            "_model_module_version": "1.5.0",
            "_model_name": "HTMLModel",
            "_view_count": null,
            "_view_module": "@jupyter-widgets/controls",
            "_view_module_version": "1.5.0",
            "_view_name": "HTMLView",
            "description": "",
            "description_tooltip": null,
            "layout": "IPY_MODEL_b8f30bb992dc45f3877c2119946a896b",
            "placeholder": "​",
            "style": "IPY_MODEL_a82e14a238674307affd209e05c199e6",
            "value": "rag_research_paper.zip: 100%"
          }
        },
        "cd5fdc384e6e420eb11064b617031a8c": {
          "model_module": "@jupyter-widgets/controls",
          "model_name": "FloatProgressModel",
          "model_module_version": "1.5.0",
          "state": {
            "_dom_classes": [],
            "_model_module": "@jupyter-widgets/controls",
            "_model_module_version": "1.5.0",
            "_model_name": "FloatProgressModel",
            "_view_count": null,
            "_view_module": "@jupyter-widgets/controls",
            "_view_module_version": "1.5.0",
            "_view_name": "ProgressView",
            "bar_style": "success",
            "description": "",
            "description_tooltip": null,
            "layout": "IPY_MODEL_a4442c47573b419faab325db644155c6",
            "max": 7514652,
            "min": 0,
            "orientation": "horizontal",
            "style": "IPY_MODEL_1fd8082fab544aea97a3e63573cf99fe",
            "value": 7514652
          }
        },
        "a4e225cac67f4dd58ad787d7bfd0ba99": {
          "model_module": "@jupyter-widgets/controls",
          "model_name": "HTMLModel",
          "model_module_version": "1.5.0",
          "state": {
            "_dom_classes": [],
            "_model_module": "@jupyter-widgets/controls",
            "_model_module_version": "1.5.0",
            "_model_name": "HTMLModel",
            "_view_count": null,
            "_view_module": "@jupyter-widgets/controls",
            "_view_module_version": "1.5.0",
            "_view_name": "HTMLView",
            "description": "",
            "description_tooltip": null,
            "layout": "IPY_MODEL_2aee5aa5292a4d09a7bf003e18f107c3",
            "placeholder": "​",
            "style": "IPY_MODEL_81ae7bd03e23417fb0449823066afef6",
            "value": " 7.51M/7.51M [00:00&lt;00:00, 16.2MB/s]"
          }
        },
        "0092932d0abf40fe930d08d23ad06710": {
          "model_module": "@jupyter-widgets/base",
          "model_name": "LayoutModel",
          "model_module_version": "1.2.0",
          "state": {
            "_model_module": "@jupyter-widgets/base",
            "_model_module_version": "1.2.0",
            "_model_name": "LayoutModel",
            "_view_count": null,
            "_view_module": "@jupyter-widgets/base",
            "_view_module_version": "1.2.0",
            "_view_name": "LayoutView",
            "align_content": null,
            "align_items": null,
            "align_self": null,
            "border": null,
            "bottom": null,
            "display": null,
            "flex": null,
            "flex_flow": null,
            "grid_area": null,
            "grid_auto_columns": null,
            "grid_auto_flow": null,
            "grid_auto_rows": null,
            "grid_column": null,
            "grid_gap": null,
            "grid_row": null,
            "grid_template_areas": null,
            "grid_template_columns": null,
            "grid_template_rows": null,
            "height": null,
            "justify_content": null,
            "justify_items": null,
            "left": null,
            "margin": null,
            "max_height": null,
            "max_width": null,
            "min_height": null,
            "min_width": null,
            "object_fit": null,
            "object_position": null,
            "order": null,
            "overflow": null,
            "overflow_x": null,
            "overflow_y": null,
            "padding": null,
            "right": null,
            "top": null,
            "visibility": null,
            "width": null
          }
        },
        "b8f30bb992dc45f3877c2119946a896b": {
          "model_module": "@jupyter-widgets/base",
          "model_name": "LayoutModel",
          "model_module_version": "1.2.0",
          "state": {
            "_model_module": "@jupyter-widgets/base",
            "_model_module_version": "1.2.0",
            "_model_name": "LayoutModel",
            "_view_count": null,
            "_view_module": "@jupyter-widgets/base",
            "_view_module_version": "1.2.0",
            "_view_name": "LayoutView",
            "align_content": null,
            "align_items": null,
            "align_self": null,
            "border": null,
            "bottom": null,
            "display": null,
            "flex": null,
            "flex_flow": null,
            "grid_area": null,
            "grid_auto_columns": null,
            "grid_auto_flow": null,
            "grid_auto_rows": null,
            "grid_column": null,
            "grid_gap": null,
            "grid_row": null,
            "grid_template_areas": null,
            "grid_template_columns": null,
            "grid_template_rows": null,
            "height": null,
            "justify_content": null,
            "justify_items": null,
            "left": null,
            "margin": null,
            "max_height": null,
            "max_width": null,
            "min_height": null,
            "min_width": null,
            "object_fit": null,
            "object_position": null,
            "order": null,
            "overflow": null,
            "overflow_x": null,
            "overflow_y": null,
            "padding": null,
            "right": null,
            "top": null,
            "visibility": null,
            "width": null
          }
        },
        "a82e14a238674307affd209e05c199e6": {
          "model_module": "@jupyter-widgets/controls",
          "model_name": "DescriptionStyleModel",
          "model_module_version": "1.5.0",
          "state": {
            "_model_module": "@jupyter-widgets/controls",
            "_model_module_version": "1.5.0",
            "_model_name": "DescriptionStyleModel",
            "_view_count": null,
            "_view_module": "@jupyter-widgets/base",
            "_view_module_version": "1.2.0",
            "_view_name": "StyleView",
            "description_width": ""
          }
        },
        "a4442c47573b419faab325db644155c6": {
          "model_module": "@jupyter-widgets/base",
          "model_name": "LayoutModel",
          "model_module_version": "1.2.0",
          "state": {
            "_model_module": "@jupyter-widgets/base",
            "_model_module_version": "1.2.0",
            "_model_name": "LayoutModel",
            "_view_count": null,
            "_view_module": "@jupyter-widgets/base",
            "_view_module_version": "1.2.0",
            "_view_name": "LayoutView",
            "align_content": null,
            "align_items": null,
            "align_self": null,
            "border": null,
            "bottom": null,
            "display": null,
            "flex": null,
            "flex_flow": null,
            "grid_area": null,
            "grid_auto_columns": null,
            "grid_auto_flow": null,
            "grid_auto_rows": null,
            "grid_column": null,
            "grid_gap": null,
            "grid_row": null,
            "grid_template_areas": null,
            "grid_template_columns": null,
            "grid_template_rows": null,
            "height": null,
            "justify_content": null,
            "justify_items": null,
            "left": null,
            "margin": null,
            "max_height": null,
            "max_width": null,
            "min_height": null,
            "min_width": null,
            "object_fit": null,
            "object_position": null,
            "order": null,
            "overflow": null,
            "overflow_x": null,
            "overflow_y": null,
            "padding": null,
            "right": null,
            "top": null,
            "visibility": null,
            "width": null
          }
        },
        "1fd8082fab544aea97a3e63573cf99fe": {
          "model_module": "@jupyter-widgets/controls",
          "model_name": "ProgressStyleModel",
          "model_module_version": "1.5.0",
          "state": {
            "_model_module": "@jupyter-widgets/controls",
            "_model_module_version": "1.5.0",
            "_model_name": "ProgressStyleModel",
            "_view_count": null,
            "_view_module": "@jupyter-widgets/base",
            "_view_module_version": "1.2.0",
            "_view_name": "StyleView",
            "bar_color": null,
            "description_width": ""
          }
        },
        "2aee5aa5292a4d09a7bf003e18f107c3": {
          "model_module": "@jupyter-widgets/base",
          "model_name": "LayoutModel",
          "model_module_version": "1.2.0",
          "state": {
            "_model_module": "@jupyter-widgets/base",
            "_model_module_version": "1.2.0",
            "_model_name": "LayoutModel",
            "_view_count": null,
            "_view_module": "@jupyter-widgets/base",
            "_view_module_version": "1.2.0",
            "_view_name": "LayoutView",
            "align_content": null,
            "align_items": null,
            "align_self": null,
            "border": null,
            "bottom": null,
            "display": null,
            "flex": null,
            "flex_flow": null,
            "grid_area": null,
            "grid_auto_columns": null,
            "grid_auto_flow": null,
            "grid_auto_rows": null,
            "grid_column": null,
            "grid_gap": null,
            "grid_row": null,
            "grid_template_areas": null,
            "grid_template_columns": null,
            "grid_template_rows": null,
            "height": null,
            "justify_content": null,
            "justify_items": null,
            "left": null,
            "margin": null,
            "max_height": null,
            "max_width": null,
            "min_height": null,
            "min_width": null,
            "object_fit": null,
            "object_position": null,
            "order": null,
            "overflow": null,
            "overflow_x": null,
            "overflow_y": null,
            "padding": null,
            "right": null,
            "top": null,
            "visibility": null,
            "width": null
          }
        },
        "81ae7bd03e23417fb0449823066afef6": {
          "model_module": "@jupyter-widgets/controls",
          "model_name": "DescriptionStyleModel",
          "model_module_version": "1.5.0",
          "state": {
            "_model_module": "@jupyter-widgets/controls",
            "_model_module_version": "1.5.0",
            "_model_name": "DescriptionStyleModel",
            "_view_count": null,
            "_view_module": "@jupyter-widgets/base",
            "_view_module_version": "1.2.0",
            "_view_name": "StyleView",
            "description_width": ""
          }
        }
      }
    }
  },
  "nbformat": 4,
  "nbformat_minor": 0
}