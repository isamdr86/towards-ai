{
  "cells": [
    {
      "cell_type": "markdown",
      "metadata": {
        "id": "view-in-github",
        "colab_type": "text"
      },
      "source": [
        "<a href=\"https://colab.research.google.com/github/isamdr86/towards-ai/blob/main/notebooks/13-Adding_Router_Agents_ir.ipynb\" target=\"_parent\"><img src=\"https://colab.research.google.com/assets/colab-badge.svg\" alt=\"Open In Colab\"/></a>"
      ]
    },
    {
      "cell_type": "markdown",
      "metadata": {
        "id": "-zE1h0uQV7uT"
      },
      "source": [
        "# Install Packages and Setup Variables\n"
      ]
    },
    {
      "cell_type": "code",
      "execution_count": 1,
      "metadata": {
        "colab": {
          "base_uri": "https://localhost:8080/"
        },
        "collapsed": true,
        "id": "QPJzr-I9XQ7l",
        "outputId": "910d8a73-ea73-45d6-f689-eeb72278363e"
      },
      "outputs": [
        {
          "output_type": "stream",
          "name": "stdout",
          "text": [
            "\u001b[?25l     \u001b[90m━━━━━━━━━━━━━━━━━━━━━━━━━━━━━━━━━━━━━━━━\u001b[0m \u001b[32m0.0/56.5 kB\u001b[0m \u001b[31m?\u001b[0m eta \u001b[36m-:--:--\u001b[0m\r\u001b[2K     \u001b[90m━━━━━━━━━━━━━━━━━━━━━━━━━━━━━━━━━━━━━━━━\u001b[0m \u001b[32m56.5/56.5 kB\u001b[0m \u001b[31m3.1 MB/s\u001b[0m eta \u001b[36m0:00:00\u001b[0m\n",
            "\u001b[?25h  Preparing metadata (setup.py) ... \u001b[?25l\u001b[?25hdone\n",
            "\u001b[2K     \u001b[90m━━━━━━━━━━━━━━━━━━━━━━━━━━━━━━━━━━━━━━━━\u001b[0m \u001b[32m67.3/67.3 kB\u001b[0m \u001b[31m3.9 MB/s\u001b[0m eta \u001b[36m0:00:00\u001b[0m\n",
            "\u001b[?25h  Installing build dependencies ... \u001b[?25l\u001b[?25hdone\n",
            "  Getting requirements to build wheel ... \u001b[?25l\u001b[?25hdone\n",
            "  Preparing metadata (pyproject.toml) ... \u001b[?25l\u001b[?25hdone\n",
            "\u001b[2K   \u001b[90m━━━━━━━━━━━━━━━━━━━━━━━━━━━━━━━━━━━━━━━━\u001b[0m \u001b[32m337.0/337.0 kB\u001b[0m \u001b[31m19.5 MB/s\u001b[0m eta \u001b[36m0:00:00\u001b[0m\n",
            "\u001b[2K   \u001b[90m━━━━━━━━━━━━━━━━━━━━━━━━━━━━━━━━━━━━━━━━\u001b[0m \u001b[32m177.4/177.4 kB\u001b[0m \u001b[31m11.5 MB/s\u001b[0m eta \u001b[36m0:00:00\u001b[0m\n",
            "\u001b[2K   \u001b[90m━━━━━━━━━━━━━━━━━━━━━━━━━━━━━━━━━━━━━━━━\u001b[0m \u001b[32m1.1/1.1 MB\u001b[0m \u001b[31m37.7 MB/s\u001b[0m eta \u001b[36m0:00:00\u001b[0m\n",
            "\u001b[2K   \u001b[90m━━━━━━━━━━━━━━━━━━━━━━━━━━━━━━━━━━━━━━━━\u001b[0m \u001b[32m584.3/584.3 kB\u001b[0m \u001b[31m30.5 MB/s\u001b[0m eta \u001b[36m0:00:00\u001b[0m\n",
            "\u001b[2K   \u001b[90m━━━━━━━━━━━━━━━━━━━━━━━━━━━━━━━━━━━━━━━━\u001b[0m \u001b[32m79.9/79.9 MB\u001b[0m \u001b[31m6.8 MB/s\u001b[0m eta \u001b[36m0:00:00\u001b[0m\n",
            "\u001b[2K   \u001b[90m━━━━━━━━━━━━━━━━━━━━━━━━━━━━━━━━━━━━━━━━\u001b[0m \u001b[32m2.4/2.4 MB\u001b[0m \u001b[31m46.3 MB/s\u001b[0m eta \u001b[36m0:00:00\u001b[0m\n",
            "\u001b[2K   \u001b[90m━━━━━━━━━━━━━━━━━━━━━━━━━━━━━━━━━━━━━━━━\u001b[0m \u001b[32m15.5/15.5 MB\u001b[0m \u001b[31m58.8 MB/s\u001b[0m eta \u001b[36m0:00:00\u001b[0m\n",
            "\u001b[2K   \u001b[90m━━━━━━━━━━━━━━━━━━━━━━━━━━━━━━━━━━━━━━━━\u001b[0m \u001b[32m278.6/278.6 kB\u001b[0m \u001b[31m16.4 MB/s\u001b[0m eta \u001b[36m0:00:00\u001b[0m\n",
            "\u001b[2K   \u001b[90m━━━━━━━━━━━━━━━━━━━━━━━━━━━━━━━━━━━━━━━━\u001b[0m \u001b[32m139.2/139.2 kB\u001b[0m \u001b[31m10.2 MB/s\u001b[0m eta \u001b[36m0:00:00\u001b[0m\n",
            "\u001b[2K   \u001b[90m━━━━━━━━━━━━━━━━━━━━━━━━━━━━━━━━━━━━━━━━\u001b[0m \u001b[32m94.8/94.8 kB\u001b[0m \u001b[31m7.5 MB/s\u001b[0m eta \u001b[36m0:00:00\u001b[0m\n",
            "\u001b[2K   \u001b[90m━━━━━━━━━━━━━━━━━━━━━━━━━━━━━━━━━━━━━━━━\u001b[0m \u001b[32m3.3/3.3 MB\u001b[0m \u001b[31m57.3 MB/s\u001b[0m eta \u001b[36m0:00:00\u001b[0m\n",
            "\u001b[2K   \u001b[90m━━━━━━━━━━━━━━━━━━━━━━━━━━━━━━━━━━━━━━━━\u001b[0m \u001b[32m150.7/150.7 kB\u001b[0m \u001b[31m10.8 MB/s\u001b[0m eta \u001b[36m0:00:00\u001b[0m\n",
            "\u001b[2K   \u001b[90m━━━━━━━━━━━━━━━━━━━━━━━━━━━━━━━━━━━━━━━━\u001b[0m \u001b[32m679.1/679.1 kB\u001b[0m \u001b[31m27.4 MB/s\u001b[0m eta \u001b[36m0:00:00\u001b[0m\n",
            "\u001b[2K   \u001b[90m━━━━━━━━━━━━━━━━━━━━━━━━━━━━━━━━━━━━━━━━\u001b[0m \u001b[32m1.9/1.9 MB\u001b[0m \u001b[31m46.7 MB/s\u001b[0m eta \u001b[36m0:00:00\u001b[0m\n",
            "\u001b[2K   \u001b[90m━━━━━━━━━━━━━━━━━━━━━━━━━━━━━━━━━━━━━━━━\u001b[0m \u001b[32m1.2/1.2 MB\u001b[0m \u001b[31m40.0 MB/s\u001b[0m eta \u001b[36m0:00:00\u001b[0m\n",
            "\u001b[2K   \u001b[90m━━━━━━━━━━━━━━━━━━━━━━━━━━━━━━━━━━━━━━━━\u001b[0m \u001b[32m94.8/94.8 kB\u001b[0m \u001b[31m5.6 MB/s\u001b[0m eta \u001b[36m0:00:00\u001b[0m\n",
            "\u001b[2K   \u001b[90m━━━━━━━━━━━━━━━━━━━━━━━━━━━━━━━━━━━━━━━━\u001b[0m \u001b[32m13.3/13.3 MB\u001b[0m \u001b[31m32.9 MB/s\u001b[0m eta \u001b[36m0:00:00\u001b[0m\n",
            "\u001b[2K   \u001b[90m━━━━━━━━━━━━━━━━━━━━━━━━━━━━━━━━━━━━━━━━\u001b[0m \u001b[32m52.5/52.5 kB\u001b[0m \u001b[31m3.9 MB/s\u001b[0m eta \u001b[36m0:00:00\u001b[0m\n",
            "\u001b[2K   \u001b[90m━━━━━━━━━━━━━━━━━━━━━━━━━━━━━━━━━━━━━━━━\u001b[0m \u001b[32m149.7/149.7 kB\u001b[0m \u001b[31m9.1 MB/s\u001b[0m eta \u001b[36m0:00:00\u001b[0m\n",
            "\u001b[2K   \u001b[90m━━━━━━━━━━━━━━━━━━━━━━━━━━━━━━━━━━━━━━━━\u001b[0m \u001b[32m64.0/64.0 kB\u001b[0m \u001b[31m519.5 kB/s\u001b[0m eta \u001b[36m0:00:00\u001b[0m\n",
            "\u001b[2K   \u001b[90m━━━━━━━━━━━━━━━━━━━━━━━━━━━━━━━━━━━━━━━━\u001b[0m \u001b[32m110.5/110.5 kB\u001b[0m \u001b[31m8.9 MB/s\u001b[0m eta \u001b[36m0:00:00\u001b[0m\n",
            "\u001b[2K   \u001b[90m━━━━━━━━━━━━━━━━━━━━━━━━━━━━━━━━━━━━━━━━\u001b[0m \u001b[32m4.5/4.5 MB\u001b[0m \u001b[31m55.3 MB/s\u001b[0m eta \u001b[36m0:00:00\u001b[0m\n",
            "\u001b[2K   \u001b[90m━━━━━━━━━━━━━━━━━━━━━━━━━━━━━━━━━━━━━━━━\u001b[0m \u001b[32m64.7/64.7 kB\u001b[0m \u001b[31m3.5 MB/s\u001b[0m eta \u001b[36m0:00:00\u001b[0m\n",
            "\u001b[2K   \u001b[90m━━━━━━━━━━━━━━━━━━━━━━━━━━━━━━━━━━━━━━━━\u001b[0m \u001b[32m62.3/62.3 kB\u001b[0m \u001b[31m4.2 MB/s\u001b[0m eta \u001b[36m0:00:00\u001b[0m\n",
            "\u001b[2K   \u001b[90m━━━━━━━━━━━━━━━━━━━━━━━━━━━━━━━━━━━━━━━━\u001b[0m \u001b[32m13.3/13.3 MB\u001b[0m \u001b[31m50.3 MB/s\u001b[0m eta \u001b[36m0:00:00\u001b[0m\n",
            "\u001b[2K   \u001b[90m━━━━━━━━━━━━━━━━━━━━━━━━━━━━━━━━━━━━━━━━\u001b[0m \u001b[32m459.8/459.8 kB\u001b[0m \u001b[31m23.7 MB/s\u001b[0m eta \u001b[36m0:00:00\u001b[0m\n",
            "\u001b[2K   \u001b[90m━━━━━━━━━━━━━━━━━━━━━━━━━━━━━━━━━━━━━━━━\u001b[0m \u001b[32m241.0/241.0 kB\u001b[0m \u001b[31m15.4 MB/s\u001b[0m eta \u001b[36m0:00:00\u001b[0m\n",
            "\u001b[2K   \u001b[90m━━━━━━━━━━━━━━━━━━━━━━━━━━━━━━━━━━━━━━━━\u001b[0m \u001b[32m295.8/295.8 kB\u001b[0m \u001b[31m20.0 MB/s\u001b[0m eta \u001b[36m0:00:00\u001b[0m\n",
            "\u001b[2K   \u001b[90m━━━━━━━━━━━━━━━━━━━━━━━━━━━━━━━━━━━━━━━━\u001b[0m \u001b[32m84.1/84.1 kB\u001b[0m \u001b[31m6.4 MB/s\u001b[0m eta \u001b[36m0:00:00\u001b[0m\n",
            "\u001b[2K   \u001b[90m━━━━━━━━━━━━━━━━━━━━━━━━━━━━━━━━━━━━━━━━\u001b[0m \u001b[32m73.2/73.2 kB\u001b[0m \u001b[31m4.9 MB/s\u001b[0m eta \u001b[36m0:00:00\u001b[0m\n",
            "\u001b[2K   \u001b[90m━━━━━━━━━━━━━━━━━━━━━━━━━━━━━━━━━━━━━━━━\u001b[0m \u001b[32m4.0/4.0 MB\u001b[0m \u001b[31m53.6 MB/s\u001b[0m eta \u001b[36m0:00:00\u001b[0m\n",
            "\u001b[2K   \u001b[90m━━━━━━━━━━━━━━━━━━━━━━━━━━━━━━━━━━━━━━━━\u001b[0m \u001b[32m452.6/452.6 kB\u001b[0m \u001b[31m23.7 MB/s\u001b[0m eta \u001b[36m0:00:00\u001b[0m\n",
            "\u001b[2K   \u001b[90m━━━━━━━━━━━━━━━━━━━━━━━━━━━━━━━━━━━━━━━━\u001b[0m \u001b[32m46.0/46.0 kB\u001b[0m \u001b[31m3.0 MB/s\u001b[0m eta \u001b[36m0:00:00\u001b[0m\n",
            "\u001b[2K   \u001b[90m━━━━━━━━━━━━━━━━━━━━━━━━━━━━━━━━━━━━━━━━\u001b[0m \u001b[32m86.8/86.8 kB\u001b[0m \u001b[31m6.5 MB/s\u001b[0m eta \u001b[36m0:00:00\u001b[0m\n",
            "\u001b[2K   \u001b[90m━━━━━━━━━━━━━━━━━━━━━━━━━━━━━━━━━━━━━━━━\u001b[0m \u001b[32m49.6/49.6 kB\u001b[0m \u001b[31m3.8 MB/s\u001b[0m eta \u001b[36m0:00:00\u001b[0m\n",
            "\u001b[?25h  Building wheel for html2text (setup.py) ... \u001b[?25l\u001b[?25hdone\n",
            "  Building wheel for pypika (pyproject.toml) ... \u001b[?25l\u001b[?25hdone\n"
          ]
        }
      ],
      "source": [
        "!pip install -q llama-index==0.10.57 openai==1.37.0 cohere==5.6.2 tiktoken==0.7.0 chromadb==0.5.5 html2text sentence_transformers pydantic llama-index-vector-stores-chroma==0.1.10 kaleido==0.2.1 llama-index-llms-gemini==0.1.11"
      ]
    },
    {
      "cell_type": "code",
      "source": [
        "%%capture\n",
        "!pip install openai==1.55.3 httpx==0.27.2 tiktoken==0.7.0 --force-reinstall"
      ],
      "metadata": {
        "id": "8zsyH6njxD29"
      },
      "execution_count": 2,
      "outputs": []
    },
    {
      "cell_type": "code",
      "execution_count": 3,
      "metadata": {
        "id": "riuXwpSPcvWC"
      },
      "outputs": [],
      "source": [
        "import os\n",
        "\n",
        "from google.colab import userdata\n",
        "os.environ[\"OPENAI_API_KEY\"] = userdata.get('openai_api_key')\n",
        "os.environ[\"GOOGLE_API_KEY\"] = userdata.get('google_api_key')"
      ]
    },
    {
      "cell_type": "code",
      "execution_count": 4,
      "metadata": {
        "id": "jIEeZzqLbz0J"
      },
      "outputs": [],
      "source": [
        "# Allows running asyncio in environments with an existing event loop, like Jupyter notebooks.\n",
        "import nest_asyncio\n",
        "\n",
        "nest_asyncio.apply()"
      ]
    },
    {
      "cell_type": "markdown",
      "metadata": {
        "id": "Bkgi2OrYzF7q"
      },
      "source": [
        "# Load a Model\n"
      ]
    },
    {
      "cell_type": "code",
      "execution_count": 5,
      "metadata": {
        "id": "9oGT6crooSSj"
      },
      "outputs": [],
      "source": [
        "from llama_index.embeddings.openai import OpenAIEmbedding\n",
        "from llama_index.llms.openai import OpenAI\n",
        "from llama_index.core import Settings\n",
        "\n",
        "Settings.llm = OpenAI(temperature=1, model=\"gpt-4o-mini\")\n",
        "Settings.embed_model = OpenAIEmbedding(model=\"text-embedding-3-small\")"
      ]
    },
    {
      "cell_type": "markdown",
      "metadata": {
        "id": "OWaT6rL7ksp8"
      },
      "source": [
        "# Load Indexes\n"
      ]
    },
    {
      "cell_type": "code",
      "execution_count": 6,
      "metadata": {
        "colab": {
          "base_uri": "https://localhost:8080/",
          "height": 171,
          "referenced_widgets": [
            "153dcbc045f64cecbc369261b734fbe8",
            "c1388ced04974e85acaa530168abfde9",
            "bc656244d8ce40cf885ca78a166125c3",
            "f9b7e50a96b4471bb48bb2209802e696",
            "773e3302988640faaf8ffe0d7c501253",
            "7f7a165c6dfd4205b2596ec300e5565f",
            "bfe47b4ccb5b44e88b6cb43e5cd22539",
            "ba1ff88443f64caab39e72e81fad1190",
            "ebaa610464924effb5739f74d487b4d9",
            "3dad9c87a4ba404da2b96453bf4fdfcb",
            "382da08e060c40fca95c207a6afd0fc2"
          ]
        },
        "id": "qyuq48p_4KWu",
        "outputId": "e0f4dedb-6eed-454a-e70f-45113deba422"
      },
      "outputs": [
        {
          "output_type": "stream",
          "name": "stderr",
          "text": [
            "/usr/local/lib/python3.11/dist-packages/huggingface_hub/utils/_auth.py:94: UserWarning: \n",
            "The secret `HF_TOKEN` does not exist in your Colab secrets.\n",
            "To authenticate with the Hugging Face Hub, create a token in your settings tab (https://huggingface.co/settings/tokens), set it as secret in your Google Colab and restart your session.\n",
            "You will be able to reuse this secret in all of your notebooks.\n",
            "Please note that authentication is recommended but still optional to access public models or datasets.\n",
            "  warnings.warn(\n"
          ]
        },
        {
          "output_type": "display_data",
          "data": {
            "text/plain": [
              "vectorstore.zip:   0%|          | 0.00/97.2M [00:00<?, ?B/s]"
            ],
            "application/vnd.jupyter.widget-view+json": {
              "version_major": 2,
              "version_minor": 0,
              "model_id": "153dcbc045f64cecbc369261b734fbe8"
            }
          },
          "metadata": {}
        }
      ],
      "source": [
        "# Downloading Vector store from Hugging face hub\n",
        "from huggingface_hub import hf_hub_download\n",
        "\n",
        "vectorstore = hf_hub_download(repo_id=\"jaiganesan/ai_tutor_knowledge\", filename=\"vectorstore.zip\", repo_type=\"dataset\", local_dir=\".\")"
      ]
    },
    {
      "cell_type": "code",
      "execution_count": 7,
      "metadata": {
        "colab": {
          "base_uri": "https://localhost:8080/"
        },
        "id": "SodY2Xpf_kxg",
        "outputId": "b8a9bed2-ab4e-4c3d-c919-24f31baf0916"
      },
      "outputs": [
        {
          "output_type": "stream",
          "name": "stdout",
          "text": [
            "Archive:  vectorstore.zip\n",
            "   creating: ai_tutor_knowledge/\n",
            "   creating: ai_tutor_knowledge/684af133-f877-4230-bde4-575cf53b6688/\n",
            "  inflating: ai_tutor_knowledge/684af133-f877-4230-bde4-575cf53b6688/length.bin  \n",
            "  inflating: ai_tutor_knowledge/684af133-f877-4230-bde4-575cf53b6688/index_metadata.pickle  \n",
            "  inflating: ai_tutor_knowledge/684af133-f877-4230-bde4-575cf53b6688/link_lists.bin  \n",
            "  inflating: ai_tutor_knowledge/684af133-f877-4230-bde4-575cf53b6688/header.bin  \n",
            "  inflating: ai_tutor_knowledge/684af133-f877-4230-bde4-575cf53b6688/data_level0.bin  \n",
            "  inflating: ai_tutor_knowledge/chroma.sqlite3  \n"
          ]
        }
      ],
      "source": [
        "!unzip vectorstore.zip"
      ]
    },
    {
      "cell_type": "code",
      "execution_count": 8,
      "metadata": {
        "id": "mXi56KTXk2sp"
      },
      "outputs": [],
      "source": [
        "import chromadb\n",
        "from llama_index.vector_stores.chroma import ChromaVectorStore\n",
        "from llama_index.core import VectorStoreIndex\n",
        "\n",
        "# Create your index\n",
        "db = chromadb.PersistentClient(path=\"./ai_tutor_knowledge\")\n",
        "chroma_collection = db.get_or_create_collection(\"ai_tutor_knowledge\")\n",
        "vector_store = ChromaVectorStore(chroma_collection=chroma_collection)\n",
        "vector_index = VectorStoreIndex.from_vector_store(vector_store)"
      ]
    },
    {
      "cell_type": "code",
      "execution_count": 9,
      "metadata": {
        "colab": {
          "base_uri": "https://localhost:8080/"
        },
        "id": "lgpzgnHFV_MH",
        "outputId": "1ce33c6e-b308-4d1a-e4b7-4fb96f3d0bb4"
      },
      "outputs": [
        {
          "output_type": "stream",
          "name": "stdout",
          "text": [
            "Retrieval Augmented Generation (RAG) operates through a workflow that integrates two main components: Retrieval and Generation. \n",
            "\n",
            "1. **Retrieval Component**: The purpose of this phase is to extract relevant information from external knowledge sources. It involves:\n",
            "   - **Indexing**: Organizing documents to enable efficient retrieval, using methods like inverted indexes for sparse retrieval or dense vector encoding for dense retrieval.\n",
            "   - **Searching**: Using the organized indexes to locate relevant documents based on user queries. This phase often includes rerankers to improve the relevance ranking of the retrieved documents.\n",
            "\n",
            "2. **Generation Component**: This phase utilizes the information obtained from the retrieval step to produce coherent and contextually relevant responses. It includes:\n",
            "   - **Prompting Techniques**: Methods such as Chain of Thought and Tree of Thought help guide the process of generating responses by enhancing the quality of the response based on the context and retrieved content.\n",
            "   - **Inferencing**: The language model interprets the prompted input to generate accurate responses aligned with the query's intent, integrating the extracted information without requiring additional fine-tuning.\n",
            "\n",
            "Overall, RAG enhances the performance of generative models by combining pretraining with dynamic retrieval of information, thereby addressing challenges like factual inaccuracies and outdated information.\n"
          ]
        }
      ],
      "source": [
        "# Query Engine\n",
        "ai_tutor_knowledge_query_engine = vector_index.as_query_engine(similarity_top_k=3)\n",
        "\n",
        "res = ai_tutor_knowledge_query_engine.query(\"How does Retrieval Augmented Generation (RAG) work?\")\n",
        "print(res.response)"
      ]
    },
    {
      "cell_type": "code",
      "execution_count": 10,
      "metadata": {
        "colab": {
          "base_uri": "https://localhost:8080/"
        },
        "id": "cKN0brIPV_MJ",
        "outputId": "3f92135b-560e-41d4-b4b1-9acf7307268f"
      },
      "outputs": [
        {
          "output_type": "stream",
          "name": "stdout",
          "text": [
            "Node ID\t 2aa05360-f43a-4819-bce7-0acf7b897eab\n",
            "Title\t Searching for Best Practices in Retrieval-Augmented Generation:1 Introduction\n",
            "Text\t Generative large language models are prone to producing outdated information or fabricating facts, although they were aligned with human preferences by reinforcement learning [1] or lightweight alternatives [2–5]. Retrieval-augmented generation (RAG) techniques address these issues by combining the strengths of pretraining and retrieval-based models, thereby providing a robust framework for enhancing model performance [6]. Furthermore, RAG enables rapid deployment of applications for specific organizations and domains without necessitating updates to the model parameters, as long as query-related documents are provided. Many RAG approaches have been proposed to enhance large language models (LLMs) through query-dependent retrievals [6–8]. A typical RAG workflow usually contains multiple intervening processing steps: query classification (determining whether retrieval is necessary for a given input query), retrieval (efficiently obtaining relevant documents for the query), reranking (refining the order of retrieved documents based on their relevance to the query), repacking (organizing the retrieved documents into a structured one for better generation), summarization (extracting key information for response generation from the repacked document and eliminating redundancies) and models. Implementing RAG also requires decisions on the ways to properly split documents into chunks, the types of embeddings to use for semantically representing these chunks, the choice of\n",
            "Score\t 0.5989538440808492\n",
            "Metadata\t {'url': 'http://arxiv.org/pdf/2407.01219v1', 'title': 'Searching for Best Practices in Retrieval-Augmented Generation:1 Introduction', 'tokens': 263, 'source': 'Arxiv: 2407.01219', 'questions_this_excerpt_can_answer': 'Based on the provided context, here are two specific questions that can be answered:\\n\\n1. **What are the key processing steps involved in a typical retrieval-augmented generation (RAG) workflow?**\\n   - This question focuses on the specific steps mentioned in the context, such as query classification, retrieval, reranking, repacking, and summarization, which are integral to the RAG process.\\n\\n2. **How does retrieval-augmented generation (RAG) enhance the performance of large language models (LLMs)?**\\n   - This question seeks to understand the advantages of RAG techniques in improving the reliability and accuracy of information generated by LLMs, particularly in addressing issues of outdated information and fact fabrication.\\n\\nThese questions are tailored to extract detailed insights from the context that may not be readily available in other sources.', 'prev_section_summary': 'The section discusses retrieval-augmented generation (RAG) techniques, highlighting their effectiveness in integrating current information, reducing hallucinations, and improving response quality, especially in specialized fields. It notes the challenges of complex implementation and slow response times associated with many RAG approaches. The excerpt emphasizes the investigation of existing RAG methods and their combinations to identify optimal practices for balancing performance and efficiency. Additionally, it mentions the role of multimodal retrieval techniques in enhancing question-answering capabilities related to visual inputs and expediting the generation of multimodal content through a \"retrieval as generation\" strategy. Resources for further exploration are provided via a GitHub link.', 'section_summary': 'The section discusses the concept of retrieval-augmented generation (RAG) as a method to enhance the performance of generative large language models (LLMs). It highlights the challenges faced by LLMs, such as producing outdated information and fabricating facts, and explains how RAG techniques address these issues by integrating pretraining and retrieval-based models. The text outlines a typical RAG workflow, which includes several key processing steps: query classification, retrieval, reranking, repacking, and summarization. Additionally, it notes that RAG allows for the rapid deployment of applications tailored to specific organizations and domains without needing to update model parameters, provided that relevant documents are available. The section also mentions considerations for document chunking and embedding types for effective semantic representation. \\n\\nKey topics include:\\n- Retrieval-augmented generation (RAG)\\n- Large language models (LLMs)\\n- Challenges of LLMs (outdated information, fact fabrication)\\n- RAG workflow steps (query classification, retrieval, reranking, repacking, summarization)\\n- Deployment of RAG applications\\n- Document chunking and embedding types\\n\\nEntities mentioned include:\\n- Generative large language models\\n- RAG techniques\\n- Pretraining and retrieval-based models', 'excerpt_keywords': 'Keywords: retrieval-augmented generation, large language models, outdated information, fact fabrication, query classification, document retrieval, reranking, repacking, summarization, semantic representation'}\n",
            "-_-_-_-_-_-_-_-_-_-_-_-_-_-_-_-_-_-_-_-_\n",
            "Node ID\t 1c324686-fad7-4a41-bfd3-d44f9612ca91\n",
            "Title\t Evaluation of Retrieval-Augmented Generation: A Survey:Research Paper Information\n",
            "Text\t Authors: Hao Yu, Aoran Gan, Kai Zhang, Shiwei Tong, Qi Liu, and Zhaofeng Liu.Numerous studies of Retrieval-Augmented Generation (RAG) systems have emerged from various perspectives since the advent of Large Language Models (LLMs). The RAG system comprises two primary components: Retrieval and Generation. The retrieval component aims to extract relevant information from various external knowledge sources. It involves two main phases, indexing and searching. Indexing organizes documents to facilitate efficient retrieval, using either inverted indexes for sparse retrieval or dense vector encoding for dense retrieval. The searching component utilizes these indexes to fetch relevant documents based on the user's query, often incorporating the optional rerankers to refine the ranking of the retrieved documents. The generation component utilizes the retrieved content and question query to formulate coherent and contextually relevant responses with the prompting and inferencing phases. As the \"Emerging\" ability of LLMs and the breakthrough in aligning human commands, LLMs are the best performance choices model for the generation stage. Prompting methods like Chain of Thought, Tree of Thought, Rephrase and Respond guide better generation results. In the inferencing step, LLMs interpret the prompted input to generate accurate and in-depth responses that align with the query's intent and integrate the extracted information without further finetuning, such as fully finetuning or LoRA. Appendix A details the complete RAG structure. Figure 1 illustrates the structure of the RAG systems as mentioned.\n",
            "Score\t 0.581314498999064\n",
            "Metadata\t {'url': 'http://arxiv.org/pdf/2405.07437v2', 'title': 'Evaluation of Retrieval-Augmented Generation: A Survey:Research Paper Information', 'tokens': 305, 'source': 'Arxiv: 2405.07437', 'questions_this_excerpt_can_answer': '1. What are the two primary components of Retrieval-Augmented Generation (RAG) systems, and what roles do they play in the overall process?\\n\\n2. How do prompting methods like Chain of Thought and Tree of Thought contribute to the generation stage in Retrieval-Augmented Generation systems?', 'prev_section_summary': 'The excerpt discusses a survey conducted by Hao Yu and colleagues on Retrieval-Augmented Generation (RAG) systems, which have become increasingly important in natural language processing. The authors highlight the unique challenges associated with evaluating RAG systems due to their hybrid nature and dependence on dynamic knowledge sources. They aim to provide a comprehensive overview of the evaluation processes and benchmarks for RAG systems, focusing on quantifiable metrics such as relevance, accuracy, and faithfulness. The survey also critiques current benchmarks, identifying their limitations, and proposes potential directions for advancing RAG evaluation methodologies. The authors are affiliated with Tencent Company, McGill University, and the University of Science and Technology of China. The paper emphasizes the importance of RAG in enhancing generative models by reducing factual inaccuracies and improving the reliability of generated content.', 'section_summary': \"The section discusses Retrieval-Augmented Generation (RAG) systems, highlighting their two primary components: Retrieval and Generation. \\n\\n1. **Retrieval Component**: \\n   - **Purpose**: Extracts relevant information from external knowledge sources.\\n   - **Phases**: \\n     - **Indexing**: Organizes documents for efficient retrieval using inverted indexes (sparse retrieval) or dense vector encoding (dense retrieval).\\n     - **Searching**: Utilizes the indexes to fetch relevant documents based on user queries, often enhanced by rerankers to improve document ranking.\\n\\n2. **Generation Component**: \\n   - **Function**: Uses the retrieved content and user queries to generate coherent and contextually relevant responses.\\n   - **Methods**: Employs prompting techniques such as Chain of Thought and Tree of Thought to enhance generation quality. \\n   - **Inferencing**: Involves interpreting prompted input to produce accurate responses that align with the query's intent, integrating extracted information without additional fine-tuning.\\n\\nThe authors of the paper are Hao Yu, Aoran Gan, Kai Zhang, Shiwei Tong, Qi Liu, and Zhaofeng Liu, and the document is sourced from Arxiv with the identifier 2405.07437. The section emphasizes the significance of Large Language Models (LLMs) in the generation stage of RAG systems.\", 'excerpt_keywords': 'Keywords: Retrieval-Augmented Generation, RAG systems, Large Language Models, information retrieval, document indexing, prompting methods, Chain of Thought, Tree of Thought, generation component, evaluation methodologies'}\n",
            "-_-_-_-_-_-_-_-_-_-_-_-_-_-_-_-_-_-_-_-_\n",
            "Node ID\t e67de210-5d8c-4bbc-87e9-b72c66cac0dc\n",
            "Title\t Adaptive Retrieval-Augmented Generation for Conversational Systems:Abstract\n",
            "Text\t Despite the success of integrating large language models into the development of conversational systems, many studies have shown the effectiveness of retrieving and augmenting external knowledge for informative responses. Hence, many existing studies commonly assume the always need for Retrieval Augmented Generation (RAG) in a conversational system without explicit control. This raises a research question about such a necessity. In this study, we propose to investigate the need for each turn of system response to be augmented with external knowledge. In particular, by leveraging human judgements on the binary choice of adaptive augmentation, we develop RAGate, a gating model, which models conversation context and relevant inputs to predict if a conversational system requires RAG for improved responses. We conduct extensive experiments on devising and applying RAGate to conversational models and well-rounded analyses of different conversational scenarios. Our experimental results and analysis indicate the effective application of RAGate in RAG-based conversational systems in identifying system responses for appropriate RAG with high-quality responses and a high generation confidence. This study also identifies the correlation between the generation’s confidence level and the relevance of the augmented knowledge.\n",
            "Score\t 0.5733370205796384\n",
            "Metadata\t {'url': 'http://arxiv.org/pdf/2407.21712v1', 'title': 'Adaptive Retrieval-Augmented Generation for Conversational Systems:Abstract', 'tokens': 226, 'source': 'Arxiv: 2407.21712', 'questions_this_excerpt_can_answer': '1. What is the primary research question addressed by the study regarding the necessity of Retrieval Augmented Generation (RAG) in conversational systems?\\n\\n2. How does the RAGate model determine whether a conversational system requires external knowledge augmentation for improved responses?', 'prev_section_summary': 'The section discusses the inference stage in the Retrieval-Augmented Generation (RaR) pipeline, highlighting its role in processing the final input string prepared during the prompting step. The inference stage involves the Large Language Model (LLM) generating output based on the input derived from previous stages, ultimately providing an answer to the initial query for downstream tasks. Additionally, it mentions the possibility of implementing post-processing steps after inference to format the output or extract specific information, such as through named entity recognition or parsing, particularly in tasks like classification or information extraction. Key topics include the inference stage, LLM output generation, and post-processing techniques.', 'section_summary': \"The section discusses the integration of Retrieval Augmented Generation (RAG) in conversational systems, highlighting the research question regarding the necessity of RAG for each response. It introduces the RAGate model, which determines whether external knowledge augmentation is needed based on conversation context and relevant inputs. The study emphasizes the importance of human judgments in this adaptive augmentation process and presents experimental results demonstrating RAGate's effectiveness in improving response quality and generation confidence in RAG-based conversational systems. Additionally, it notes a correlation between the confidence level of generated responses and the relevance of the augmented knowledge. Key topics include RAG, conversational systems, adaptive augmentation, and the RAGate model.\", 'excerpt_keywords': 'Keywords: Retrieval Augmented Generation, conversational systems, RAGate model, adaptive augmentation, external knowledge, human judgments, response quality, generation confidence, large language models, experimental analysis'}\n",
            "-_-_-_-_-_-_-_-_-_-_-_-_-_-_-_-_-_-_-_-_\n"
          ]
        }
      ],
      "source": [
        "for src in res.source_nodes:\n",
        "    print(\"Node ID\\t\", src.node_id)\n",
        "    print(\"Title\\t\", src.metadata[\"title\"])\n",
        "    print(\"Text\\t\", src.text)\n",
        "    print(\"Score\\t\", src.score)\n",
        "    print(\"Metadata\\t\", src.metadata)\n",
        "    print(\"-_\" * 20)"
      ]
    },
    {
      "cell_type": "markdown",
      "metadata": {
        "id": "fXqjul4MV_MJ"
      },
      "source": [
        "# Router\n",
        "\n",
        "Routers are modules that take in a user query and a set of “choices” (defined by metadata), and returns one or more selected choices.\n",
        "\n",
        "They can be used for the following use cases and more:\n",
        "\n",
        "- Selecting the right data source among a diverse range of data sources\n",
        "\n",
        "- Deciding whether to do summarization (e.g. using summary index query engine) or semantic search (e.g. using vector index query engine)\n",
        "\n",
        "- Deciding whether to “try” out a bunch of choices at once and combine the results (using multi-routing capabilities).\n"
      ]
    },
    {
      "cell_type": "markdown",
      "metadata": {
        "id": "uunnC6XjV_Mb"
      },
      "source": [
        "## Lets create a different query engine with Mistral AI information\n"
      ]
    },
    {
      "cell_type": "code",
      "execution_count": 11,
      "metadata": {
        "id": "AXnP6NfcBCjA"
      },
      "outputs": [],
      "source": [
        "from pathlib import Path\n",
        "import requests\n",
        "\n",
        "wiki_titles = [\n",
        "    \"Mistral AI\",\n",
        "    \"Llama (language model)\",\n",
        "    \"Claude AI\",\n",
        "    \"OpenAI\",\n",
        "    \"Gemini AI\",\n",
        "]\n",
        "\n",
        "data_path = Path(\"llm_data_wiki\")\n",
        "\n",
        "if not data_path.exists():\n",
        "    data_path.mkdir()\n",
        "\n",
        "for title in wiki_titles:\n",
        "    response = requests.get(\n",
        "        \"https://en.wikipedia.org/w/api.php\",\n",
        "        params={\n",
        "            \"action\": \"query\",\n",
        "            \"format\": \"json\",\n",
        "            \"titles\": title,\n",
        "            \"prop\": \"extracts\",\n",
        "            \"explaintext\": True,\n",
        "        },\n",
        "    ).json()\n",
        "\n",
        "    page = next(iter(response[\"query\"][\"pages\"].values()))\n",
        "\n",
        "    if \"extract\" in page:\n",
        "        wiki_text = page[\"extract\"]\n",
        "\n",
        "        with open(data_path / \"llm_data_wiki.txt\", \"a\") as fp:\n",
        "            fp.write(f\"Title: {title}\\n{wiki_text}\\n\\n\")\n",
        "    else:\n",
        "        print(f\"No extract found for '{title}'\")\n"
      ]
    },
    {
      "cell_type": "code",
      "execution_count": 12,
      "metadata": {
        "colab": {
          "base_uri": "https://localhost:8080/"
        },
        "id": "OsSsh4_bV_Mb",
        "outputId": "165ecc43-5b33-471c-e85a-ded5815b9525"
      },
      "outputs": [
        {
          "output_type": "stream",
          "name": "stderr",
          "text": [
            "100%|██████████| 50/50 [00:31<00:00,  1.57it/s]\n",
            "100%|██████████| 50/50 [01:16<00:00,  1.53s/it]\n",
            "100%|██████████| 50/50 [00:16<00:00,  3.02it/s]\n"
          ]
        }
      ],
      "source": [
        "from llama_index.core import VectorStoreIndex, SimpleDirectoryReader\n",
        "from llama_index.core.text_splitter import TokenTextSplitter\n",
        "from llama_index.core.extractors import (\n",
        "    SummaryExtractor,\n",
        "    QuestionsAnsweredExtractor,\n",
        "    KeywordExtractor,\n",
        ")\n",
        "\n",
        "# Assuming you have prepared a directory for llm data\n",
        "documents = SimpleDirectoryReader(\"llm_data_wiki\").load_data()\n",
        "\n",
        "text_splitter = TokenTextSplitter(separator=\" \", chunk_size=512, chunk_overlap=128)\n",
        "\n",
        "transformations = [\n",
        "    text_splitter,\n",
        "    QuestionsAnsweredExtractor(questions=2),\n",
        "    SummaryExtractor(summaries=[\"prev\", \"self\"]),\n",
        "    KeywordExtractor(keywords=10),\n",
        "    OpenAIEmbedding(model=\"text-embedding-3-small\"),\n",
        "]\n",
        "\n",
        "llm_index = VectorStoreIndex.from_documents(documents=documents, transformations=transformations)\n",
        "\n",
        "llm_query_engine = llm_index.as_query_engine(similarity_top_k=2)"
      ]
    },
    {
      "cell_type": "code",
      "execution_count": 13,
      "metadata": {
        "id": "p3hDxvMuV_Mc"
      },
      "outputs": [],
      "source": [
        "from llama_index.core.query_engine import RouterQueryEngine\n",
        "from llama_index.core.selectors import PydanticSingleSelector\n",
        "from llama_index.core.tools import QueryEngineTool\n",
        "\n",
        "# initialize tools\n",
        "ai_tutor_knowledge_tool = QueryEngineTool.from_defaults(\n",
        "    query_engine=ai_tutor_knowledge_query_engine,\n",
        "    description=\"Useful for questions about general generative AI concepts\",\n",
        ")\n",
        "llm_tool = QueryEngineTool.from_defaults(\n",
        "    query_engine=llm_query_engine,\n",
        "    description=\"Useful for questions about particular LLMs like Mistral, Claude, OpenAI, Gemini\",\n",
        ")\n",
        "\n",
        "# initialize router query engine (single selection, pydantic)\n",
        "query_engine = RouterQueryEngine(\n",
        "    selector=PydanticSingleSelector.from_defaults(),\n",
        "    query_engine_tools=[\n",
        "        ai_tutor_knowledge_tool,\n",
        "        llm_tool,\n",
        "    ],\n",
        ")"
      ]
    },
    {
      "cell_type": "code",
      "execution_count": 14,
      "metadata": {
        "colab": {
          "base_uri": "https://localhost:8080/"
        },
        "id": "9nnZaOPuV_Mc",
        "outputId": "60942918-8edc-4c8d-e661-d287d66dc856"
      },
      "outputs": [
        {
          "output_type": "stream",
          "name": "stdout",
          "text": [
            "The LLaMa model, developed by Meta Platforms, is a large language model designed for a variety of applications. It focuses on enabling advanced natural language understanding and generation tasks. The model has multiple versions, including LLaMa 2 and LLaMa 3, each with increasing capabilities. The LLaMa models are training on extensive datasets and have features that allow for fine-tuning in specific applications, such as chat functions and code generation. Additionally, there are discussions surrounding its usage policies, particularly concerning military applications and concerns about potential misuse for harmful purposes.\n"
          ]
        }
      ],
      "source": [
        "res = query_engine.query(\n",
        "    \"What is the LLama model?\",\n",
        ")\n",
        "print(res.response)"
      ]
    },
    {
      "cell_type": "code",
      "execution_count": 15,
      "metadata": {
        "colab": {
          "base_uri": "https://localhost:8080/"
        },
        "id": "zLVDAW7hV_Md",
        "outputId": "5d27bac6-3e24-44bf-b263-329a7e100405"
      },
      "outputs": [
        {
          "output_type": "stream",
          "name": "stdout",
          "text": [
            "Node ID\t 154e68f3-4be3-443b-835b-25c8583ddcb0\n",
            "Text\t model architecture remains largely unchanged from that of LLaMA-1 models, but 40% more data was used to train the foundational models. The accompanying preprint also mentions a model with 34B parameters that might be released in the future upon satisfying safety targets.\n",
            "LLaMa 2 includes foundation models and models fine-tuned for chat. In a further departure from the original version of LLaMa, all models are released with weights and may be used for many commercial use cases. However, because LLaMa's license enforces an acceptable use policy that prohibits Llama from being used for some purposes, Meta's use of the term open source to describe Llama has been disputed by the Open Source Initiative (which maintains the The Open Source Definition) and others.\n",
            "Code Llama is a fine-tune of LLaMa 2 with code specific datasets. 7B, 13B, and 34B versions were released on August 24, 2023, with the 70B releasing on the January 29, 2024. Starting with the foundation models from LLaMa 2, Meta AI would train an additional 500B tokens of code datasets, before an additional 20B token of long-context data, creating the Code Llama foundation models. This foundation model was further trained on 5B instruction following token to create the instruct fine-tune. Another foundation model was created for Python code, which trained on 100B tokens of Python-only code, before the long-context data.\n",
            "\n",
            "\n",
            "== Llama 3 ==\n",
            "\n",
            "On April 18, 2024, Meta released Llama-3 with two sizes: 8B and 70B parameters. The models have been pre-trained on approximately 15 trillion tokens of text gathered from “publicly available sources” with the instruct models fine-tuned on “publicly available instruction datasets, as well as over 10M human-annotated examples\". Meta AI's testing showed in April 2024 that Llama 3 70B was beating Gemini Pro 1.5 and Claude 3 Sonnet on most benchmarks. Meta also announced plans to make Llama 3 multilingual and multimodal, better at coding and reasoning, and to increase its context window.\n",
            "During an interview with Dwarkesh Patel, Mark Zuckerberg said that the 8B version of Llama 3 was nearly as powerful as the largest Llama\n",
            "Score\t 0.5865265795732035\n",
            "-_-_-_-_-_-_-_-_-_-_-_-_-_-_-_-_-_-_-_-_\n",
            "Node ID\t 02538041-a4f8-4268-a13c-dbebabf902c0\n",
            "Text\t format focuses on supporting different quantization types, which can reduce memory usage, and increase speed at the expense of lower model precision.\n",
            "llamafile created by Justine Tunney is an open-source tool that bundles llama.cpp with the model into a single executable file. Tunney et al. introduced new optimized matrix multiplication kernels for x86 and ARM CPUs, improving prompt evaluation performance for FP16 and 8-bit quantized data types.\n",
            "\n",
            "\n",
            "=== Military ===\n",
            "In 2024, researchers from the People's Liberation Army Academy of Military Sciences (top military academy of China) were reported to have developed a military tool using Llama, which Meta Platforms stated was unauthorized due to Llama's license prohibiting the use of the model for military purposes. Meta granted the US government and US military contractors permission to use Llama in November 2024, but continued to prohibit military use by non-US entities.\n",
            "\n",
            "\n",
            "== Reception ==\n",
            "Wired describes the 8B parameter version of Llama 3 as being \"surprisingly capable\" given its size.\n",
            "The response to Meta's integration of Llama into Facebook was mixed, with some users confused after Meta AI told a parental group that it had a child.\n",
            "According to the Q4 2023 Earnings transcript, Meta adopted the strategy of open weights to improve on model safety, iteration speed, increase adoption among developers and researchers, and to become the industry standard. Llama 5, 6, and 7 are planned for the future.\n",
            "The release of Llama models has sparked significant debates on the benefits and misuse risks of open weight models. Such models can be fine-tuned to remove safeguards, notably by cyber criminals, until they comply with harmful requests. Some experts contend that future models may facilitate causing damage more than defending against it, for example by making it relatively easy to engineer advanced bioweapons without specialized knowledge. Conversely, open-weight models can be useful for a wide variety of purposes, including for safety research.\n",
            "Open Source Initiative head Stefano Maffulli criticized Meta for describing Llama as open source, saying that it was causing confusion among users and \"polluting\" the term.\n",
            "\n",
            "\n",
            "== See also ==\n",
            "GPT-4o\n",
            "IBM Granite, an open-source LLM made by IBM\n",
            "Mistral AI, a French open-source AI company\n",
            "\n",
            "\n",
            "== References ==\n",
            "\n",
            "\n",
            "== Further reading ==\n",
            "\n",
            "\n",
            "== External links ==\n",
            "Official website\n",
            "Official Hugging Face organization for Llama, Llama\n",
            "Score\t 0.582277541075322\n",
            "-_-_-_-_-_-_-_-_-_-_-_-_-_-_-_-_-_-_-_-_\n"
          ]
        }
      ],
      "source": [
        "for src in res.source_nodes:\n",
        "    print(\"Node ID\\t\", src.node_id)\n",
        "    print(\"Text\\t\", src.text)\n",
        "    print(\"Score\\t\", src.score)\n",
        "    print(\"-_\" * 20)"
      ]
    },
    {
      "cell_type": "code",
      "execution_count": 16,
      "metadata": {
        "colab": {
          "base_uri": "https://localhost:8080/"
        },
        "id": "nvqkYeF9V_Md",
        "outputId": "38d22540-1e18-4379-e87c-35f6b7e28052"
      },
      "outputs": [
        {
          "output_type": "stream",
          "name": "stdout",
          "text": [
            "Parameter-efficient fine-tuning methods are designed to optimize the process of adapting large language models (LLMs) without the need for extensive computational resources. These methods make slight adjustments to a model's weights and reduce the number of trainable parameters, thus minimizing the computational cost associated with full fine-tuning.\n",
            "\n",
            "Three main approaches in parameter-efficient fine-tuning (PEFT) are:\n",
            "\n",
            "1. **Selective**: This approach involves fine-tuning only a subset of the model's parameters. By strategically choosing which parameters to adjust, this method aims to enhance efficiency while maintaining the model's performance on specific tasks.\n",
            "\n",
            "2. **Reparameterization**: This method utilizes low-rank representations to modify model weights. A notable example is Low Rank Adaptation (LoRA), which approximates the original weight matrices using two smaller matrices derived from rank decomposition. This significantly reduces the number of parameters, as demonstrated by an example where a weight matrix of 32,768 parameters can be approximated with just 4,608 parameters.\n",
            "\n",
            "3. **Additive**: In this approach, small, trainable neural network modules, known as adapter modules, are incorporated into specific layers of the pre-trained LLM. Alternatively, prompt tuning focuses on crafting specific prompts to direct the model's responses without altering its architecture.\n",
            "\n",
            "These parameter-efficient methods allow for the adaptation of large models for various tasks such as natural language understanding and generation, without the extensive computational burden of full model training.\n"
          ]
        }
      ],
      "source": [
        "res = query_engine.query(\"Explain parameter-efficient finetuning methods\")\n",
        "print(res.response)"
      ]
    },
    {
      "cell_type": "code",
      "execution_count": 17,
      "metadata": {
        "colab": {
          "base_uri": "https://localhost:8080/"
        },
        "id": "yNKJdJhzV_Md",
        "outputId": "f0db40aa-5472-443a-d2a8-c723c581cbbf"
      },
      "outputs": [
        {
          "output_type": "stream",
          "name": "stdout",
          "text": [
            "Node ID\t 6be88fa3-2f8b-43e7-aba0-d874b39809fc\n",
            "Text\t # FourierFT: Discrete Fourier Transformation Fine-Tuning[FourierFT](https://huggingface.co/papers/2405.03003) is a parameter-efficient fine-tuning technique that leverages Discrete Fourier Transform to compress the model's tunable weights. This method outperforms LoRA in the GLUE benchmark and common ViT classification tasks using much less parameters.FourierFT currently has the following constraints:- Only `nn.Linear` layers are supported.- Quantized layers are not supported.If these constraints don't work for your use case, consider other methods instead.The abstract from the paper is:> Low-rank adaptation (LoRA) has recently gained much interest in fine-tuning foundation models. It effectively reduces the number of trainable parameters by incorporating low-rank matrices A and B to represent the weight change, i.e., Delta W=BA. Despite LoRA's progress, it faces storage challenges when handling extensive customization adaptations or larger base models. In this work, we aim to further compress trainable parameters by enjoying the powerful expressiveness of the Fourier transform. Specifically, we introduce FourierFT, which treats Delta W as a matrix in the spatial domain and learns only a small fraction of its spectral coefficients. With the trained spectral coefficients, we implement the inverse discrete Fourier transform to recover Delta W. Empirically, our FourierFT method shows comparable or better performance with fewer parameters than LoRA on various tasks, including natural language understanding, natural language generation, instruction tuning, and image classification. For example, when performing instruction tuning on the LLaMA2-7B model, FourierFT surpasses LoRA with only 0.064M trainable parameters, compared to LoRA's 33.5M.## FourierFTConfig[[autodoc]] tuners.fourierft.config.FourierFTConfig## FourierFTModel[[autodoc]] tuners.fourierft.model.FourierFTModel\n",
            "Score\t 0.4090567628420922\n",
            "-_-_-_-_-_-_-_-_-_-_-_-_-_-_-_-_-_-_-_-_\n",
            "Node ID\t 2b4590b8-4c9d-4d51-a81f-9a13979593a8\n",
            "Text\t SAMSUM is one of the datasets that FLAN T5 uses. There are several pre-trained FLAN T5 models that have been fine-tuned on SAMSUM  including Phil Schmid/flan-t5-base-samsum and jasonmcaffee/flan-t5-large-samsum on Hugging Face. If we want to fine-tune the FLAN T5 model specifically for formal dialogue conversations  we can do so using the DIALOGUESUM dataset.   Models fine-tuned on DialogSum can be applied to areas like customer support  meeting minutes generation  chatbot summarization  and more.   2. PEFT (Parameter efficient fine tuning)Training LLMs is computationally intensive. Full finetuning is computationally expensive as it might change each weight in the model. First  we start with a pretrained LLM like GPT-3. This model already has a vast amount of knowledge and understanding of language. Then we provide task-specific datasets  which could be data for question answering or sentiment analysis or any other customer dataset. During training  full finetuning process makes slight adjustments to every weight in the pretrained model. While the model weights are substantial  we have other important aspects during training like Optimizer  which adds up to the cost. For example  Optimizer States  gradients  forward activation  and temporary memory. These additional components add up to the training cost.   Three main approaches are used in PEFT: Selective / reparameterization/additive.   1. SelectiveHere  we select a subset of initial LLM parameters to fine-tune.   2. ReparameterizationWe reparameterize model weights using a low-rank representation. We will discuss LoRA in detail below.   LORA: Low Rank Representation:   Each layer in a transformer architecture has multiple weight matrices for different operations  like self-attention or feed-forward networks. These matrices can have different sizes depending on the specific layer and configuration. Let us take an example by picking a matrix of size 512 x 64 = 32 768 parameters. Let us now see LoRA with rank = 8.   Original Weight Matrix: Dimensions: 512 x 64  Parameters: 32 768 (512 x 64)Matrix A (Rank Decomposition):\n",
            "Score\t 0.38885790864390724\n",
            "-_-_-_-_-_-_-_-_-_-_-_-_-_-_-_-_-_-_-_-_\n",
            "Node ID\t b5152174-64c5-4a94-af55-d87c2b0e6cc3\n",
            "Text\t representation. We will discuss LoRA in detail below.   LORA: Low Rank Representation:   Each layer in a transformer architecture has multiple weight matrices for different operations  like self-attention or feed-forward networks. These matrices can have different sizes depending on the specific layer and configuration. Let us take an example by picking a matrix of size 512 x 64 = 32 768 parameters. Let us now see LoRA with rank = 8.   Original Weight Matrix: Dimensions: 512 x 64  Parameters: 32 768 (512 x 64)Matrix A (Rank Decomposition): Dimensions: 8 x 64 (rank x original dimension)  Parameters: 512 (8 x 64)Matrix B (Rank Decomposition): Dimensions: 8 x 512 (rank x original dimension)  Parameters: 4 096 (8 x 512)Total LORA Parameters: 512 (A) + 4 096 (B) = 4 608Approximation:   The original weight matrix (W) is approximated by the product of A and B:   Z  W  A * B   Reasoning Behind the Dimensions:   The dimensions of A and B are chosen to capture the essence of the original weight matrix (W) with fewer parameters.The rank (here  8) controls the trade-off between efficiency and accuracy. A lower rank leads to fewer parameters but might result in a slightly less accurate approximation.We can also create task-specific decomposition matrices.In the example we discussed  LORA achieves a reduction of approximately 86% in the number of trainable parameters needed for fine-tuning. Heres the summary.   Original Weight Matrix: 32 768 parameters (512 x 64)Total LORA Parameters: 4 608 parameters (512 + 4 096)3. AdditiveWe add trainable layers or parameters to the model in the form of adapter modules.   The two main additive approaches are:   Adapter Modules: These are small  trainable neural network modules strategically inserted into specific layers of the pre-trained LLM. They help the LLM learn task-specific information without drastically changing its underlying knowledge.Prompt Tuning: This approach doesnt involve adding any new modules to the model itself. Instead  it focuses on crafting specific prompts (essentially\n",
            "Score\t 0.3807345661389367\n",
            "-_-_-_-_-_-_-_-_-_-_-_-_-_-_-_-_-_-_-_-_\n"
          ]
        }
      ],
      "source": [
        "for src in res.source_nodes:\n",
        "    print(\"Node ID\\t\", src.node_id)\n",
        "    print(\"Text\\t\", src.text)\n",
        "    print(\"Score\\t\", src.score)\n",
        "    print(\"-_\" * 20)"
      ]
    },
    {
      "cell_type": "markdown",
      "metadata": {
        "id": "EcDZ5Dn8V_Md"
      },
      "source": [
        "# OpenAI Agent"
      ]
    },
    {
      "cell_type": "code",
      "execution_count": 18,
      "metadata": {
        "id": "8G8dyrsFV_Me"
      },
      "outputs": [],
      "source": [
        "from llama_index.agent.openai import OpenAIAgent"
      ]
    },
    {
      "cell_type": "code",
      "execution_count": 19,
      "metadata": {
        "id": "z5d0WpDeV_Me"
      },
      "outputs": [],
      "source": [
        "system_message_openai_agent = \"\"\"You are an AI teacher, answering questions from students of an applied AI course on Large Language Models (LLMs or llm) and Retrieval Augmented Generation (RAG) for LLMs. Topics covered include training models, fine-tuning models, giving memory to LLMs, prompting tips, hallucinations and bias, vector databases, transformer architectures, embeddings, RAG frameworks, Langchain, LlamaIndex, making LLMs interact with tools, AI agents, reinforcement learning with human feedback. Questions should be understood in this context.\n",
        "\n",
        "Your answers are aimed to teach students, so they should be complete, clear, and easy to understand.\n",
        "\n",
        "Use the available tools to gather insights pertinent to the field of AI. Always use two tools at the same time. These tools accept a string (a user query rewritten as a statement) and return informative content regarding the domain of AI.\n",
        "e.g:\n",
        "User question: 'How can I fine-tune an LLM?'\n",
        "Input to the tool: 'Fine-tuning an LLM'\n",
        "\n",
        "User question: How can quantize an LLM?\n",
        "Input to the tool: 'Quantization for LLMs'\n",
        "\n",
        "User question: 'Teach me how to build an AI agent\"'\n",
        "Input to the tool: 'Building an AI Agent'\n",
        "\n",
        "Only some information returned by the tools might be relevant to the question, so ignore the irrelevant part and answer the question with what you have.\n",
        "\n",
        "Your responses are exclusively based on the output provided by the tools. Refrain from incorporating information not directly obtained from the tool's responses.\n",
        "\n",
        "When the conversation deepens or shifts focus within a topic, adapt your input to the tools to reflect these nuances. This means if a user requests further elaboration on a specific aspect of a previously discussed topic, you should reformulate your input to the tool to capture this new angle or more profound layer of inquiry.\n",
        "\n",
        "Provide comprehensive answers, ideally structured in multiple paragraphs, drawing from the tool's variety of relevant details. The depth and breadth of your responses should align with the scope and specificity of the information retrieved.\n",
        "\n",
        "Should the tools repository lack information on the queried topic, politely inform the user that the question transcends the bounds of your current knowledge base, citing the absence of relevant content in the tool's documentation.\n",
        "\n",
        "At the end of your answers, always invite the students to ask deeper questions about the topic if they have any. Make sure to reformulate the question to the tool to capture this new angle or more profound layer of inquiry.\n",
        "\n",
        "Do not refer to the documentation directly, but use the information provided within it to answer questions.\n",
        "\n",
        "If code is provided in the information, share it with the students. It's important to provide complete code blocks so they can execute the code when they copy and paste them.\n",
        "\n",
        "Make sure to format your answers in Markdown format, including code blocks and snippets.\n",
        "\n",
        "Politely reject questions not related to AI, while being cautious not to reject unfamiliar terms or acronyms too quickly.\"\"\""
      ]
    },
    {
      "cell_type": "code",
      "execution_count": 20,
      "metadata": {
        "id": "C54LMqwdV_Me"
      },
      "outputs": [],
      "source": [
        "from llama_index.llms.openai import OpenAI\n",
        "\n",
        "llm = OpenAI(model=\"gpt-4o\")\n",
        "\n",
        "agent = OpenAIAgent.from_tools(\n",
        "    llm=llm,\n",
        "    tools=[ai_tutor_knowledge_tool, llm_tool],\n",
        "    system_prompt=system_message_openai_agent,\n",
        ")"
      ]
    },
    {
      "cell_type": "code",
      "execution_count": 21,
      "metadata": {
        "colab": {
          "base_uri": "https://localhost:8080/"
        },
        "id": "aKqbYIlNV_Me",
        "outputId": "d83b146b-85db-42df-aee8-405dba0ad540"
      },
      "outputs": [
        {
          "output_type": "stream",
          "name": "stdout",
          "text": [
            "The LLaMa model series, developed by Meta Platforms, represents a significant advancement in AI language models, designed for a variety of applications. Here are some key aspects of the LLaMa models:\n",
            "\n",
            "1. **Architecture**: LLaMa models are built on a decoder-only Transformer architecture, similar to models like GPT-3. They incorporate unique features such as the SwiGLU activation function, rotary positional embeddings (RoPE), and RMSNorm for normalization, which contribute to their efficiency and performance.\n",
            "\n",
            "2. **Model Variants and Sizes**: The series includes several versions, with the latest being LLaMa 3, available in sizes like 8B, 70B, and a planned 405B configuration. These models have been fine-tuned on extensive datasets to enhance their performance on various benchmarks.\n",
            "\n",
            "3. **Training Data**: The training of LLaMa models emphasizes the volume of data, with datasets comprising trillions of tokens sourced from public resources such as CommonCrawl and GitHub. This approach aims to improve the models' understanding and generation capabilities.\n",
            "\n",
            "4. **Performance**: LLaMa 3 (70B), in particular, has demonstrated superior performance compared to contemporaries like Gemini Pro 1.5 and Claude 3 Sonnet on numerous benchmarks. The models are continually being enhanced to support multilingual and multimodal capabilities.\n",
            "\n",
            "5. **Licensing and Ethical Considerations**: The licensing of LLaMa models includes restrictions on military use, permitting only the US government and military contractors to utilize them. This has raised concerns about potential misuse, including applications in cybercrime and bioweapons engineering.\n",
            "\n",
            "6. **Industry Reception**: The release of LLaMa models has sparked debates about their open-weight nature, with discussions focusing on the balance between their benefits and risks, particularly regarding safety and misuse prevention.\n",
            "\n",
            "Overall, the LLaMa series embodies a blend of technological innovation and critical discussions surrounding ethical AI usage. If you have more questions or need further elaboration on any specific aspect of the LLaMa models, feel free to ask!\n"
          ]
        }
      ],
      "source": [
        "response = agent.chat(\"What is the LLama model?\")\n",
        "print(response.response)"
      ]
    },
    {
      "cell_type": "code",
      "execution_count": 22,
      "metadata": {
        "colab": {
          "base_uri": "https://localhost:8080/"
        },
        "id": "WqGWXuPDV_Me",
        "outputId": "cd5ea060-cc90-4439-d5b8-67747c425472"
      },
      "outputs": [
        {
          "output_type": "stream",
          "name": "stdout",
          "text": [
            "It seems the available resources did not provide specific details on parameter-efficient finetuning methods. However, I can offer a general overview based on common practices in the field.\n",
            "\n",
            "Parameter-efficient finetuning methods are designed to adapt large pre-trained models to specific tasks without updating all the model's parameters. This approach is particularly useful when computational resources are limited or when the model needs to be adapted to multiple tasks efficiently. Here are some common techniques:\n",
            "\n",
            "1. **Adapters**: This method involves adding small neural network modules, called adapters, between the layers of a pre-trained model. During finetuning, only the parameters of these adapters are updated, while the original model parameters remain unchanged. This reduces the number of parameters that need to be trained, making the process more efficient.\n",
            "\n",
            "2. **Low-Rank Adaptation (LoRA)**: LoRA introduces low-rank matrices into the model's architecture. During finetuning, only these low-rank matrices are updated. This method significantly reduces the number of trainable parameters and has been shown to be effective in various tasks.\n",
            "\n",
            "3. **Prompt Tuning**: Instead of modifying the model's parameters, prompt tuning involves learning a small set of task-specific prompts that guide the model's behavior. This approach is particularly useful for models that are already capable of understanding prompts, such as GPT-3.\n",
            "\n",
            "4. **BitFit**: This technique involves finetuning only the bias terms of the model's layers. Since bias terms are a small fraction of the total parameters, this method is highly parameter-efficient.\n",
            "\n",
            "These methods allow for efficient adaptation of large models to new tasks with minimal computational overhead. If you have more questions or need further elaboration on any specific method, feel free to ask!\n"
          ]
        }
      ],
      "source": [
        "response = agent.chat(\"Explain parameter-efficient finetuning methods\")\n",
        "print(response.response)"
      ]
    },
    {
      "cell_type": "code",
      "execution_count": 23,
      "metadata": {
        "colab": {
          "base_uri": "https://localhost:8080/"
        },
        "id": "TSPTAruzV_Me",
        "outputId": "0c65cdc6-e510-4fef-bd53-aa96f95576e9"
      },
      "outputs": [
        {
          "output_type": "stream",
          "name": "stdout",
          "text": [
            "I'm here to assist with questions related to AI and related technologies. If you have any questions about AI models, fine-tuning, or other related topics, feel free to ask!\n"
          ]
        }
      ],
      "source": [
        "response = agent.chat(\"Write the recipe for a chocolate cake.\")\n",
        "print(response.response)"
      ]
    },
    {
      "cell_type": "markdown",
      "metadata": {
        "id": "fWb1I1WvV_Mf"
      },
      "source": [
        "# Code related questions to GPT-4o, the remaining questions to Gemini"
      ]
    },
    {
      "cell_type": "code",
      "execution_count": 24,
      "metadata": {
        "id": "tY82urjtV_Mf"
      },
      "outputs": [],
      "source": [
        "from llama_index.agent.openai import OpenAIAgent\n",
        "from llama_index.llms.openai import OpenAI\n",
        "from llama_index.llms.gemini import Gemini\n",
        "from llama_index.core.query_engine import RouterQueryEngine\n",
        "from llama_index.core.selectors import PydanticSingleSelector\n",
        "from llama_index.core.tools import QueryEngineTool\n",
        "\n",
        "# initialize LLMs\n",
        "gpt_4o_llm = OpenAI(model=\"gpt-4o\")\n",
        "gemini_llm = Gemini(model=\"models/gemini-1.5-flash\", temperature=1, max_tokens=512)\n",
        "\n",
        "# define query engines\n",
        "llm_query_engine_code = vector_index.as_query_engine(\n",
        "    llm=gpt_4o_llm,\n",
        "    similarity_top_k=3,\n",
        "    embed_model=OpenAIEmbedding(model=\"text-embedding-3-small\", mode=\"text_search\"),\n",
        ")\n",
        "\n",
        "llm_query_engine_rest = vector_index.as_query_engine(\n",
        "    llm=gemini_llm,\n",
        "    similarity_top_k=3,\n",
        "    embed_model=OpenAIEmbedding(model=\"text-embedding-3-small\", mode=\"text_search\"),\n",
        ")\n",
        "\n",
        "# define tools for LLM\n",
        "llm_tool_code = QueryEngineTool.from_defaults(\n",
        "    query_engine=llm_query_engine_code,\n",
        "    description=\"Ideal for handling code-related queries, technical implementations, and troubleshooting involving Large Language Models.\",\n",
        "    name=\"LLMCodeTool\",\n",
        ")\n",
        "\n",
        "llm_tool_rest = QueryEngineTool.from_defaults(\n",
        "    query_engine=llm_query_engine_rest,\n",
        "    description=\"Best suited for answering conceptual, theoretical, and general questions about Large Language Models.\",\n",
        "    name=\"LLMGeneralTool\",\n",
        ")\n",
        "\n",
        "# Initialize OpenAIAgent with the system message and the router query engine\n",
        "agent = OpenAIAgent.from_tools(\n",
        "    llm=gpt_4o_llm,  # The base LLM, used only if no other tools apply\n",
        "    tools=[llm_tool_code, llm_tool_rest],\n",
        "    system_prompt=system_message_openai_agent,\n",
        ")"
      ]
    },
    {
      "cell_type": "code",
      "execution_count": 25,
      "metadata": {
        "colab": {
          "base_uri": "https://localhost:8080/",
          "height": 51
        },
        "id": "h3NMpGxYV_Mf",
        "outputId": "dfbae7bc-6e29-4459-a2fe-cfab40156bdf"
      },
      "outputs": [
        {
          "output_type": "stream",
          "name": "stdout",
          "text": [
            "LLMGeneralTool\n",
            "LLMCodeTool\n"
          ]
        }
      ],
      "source": [
        "# Test the agent with a code-related question\n",
        "response = agent.chat(\"How do I fine-tune the LLama model? Write the code for it.\")\n",
        "for source in response.sources:\n",
        "    print(source.tool_name)"
      ]
    },
    {
      "cell_type": "code",
      "execution_count": 26,
      "metadata": {
        "colab": {
          "base_uri": "https://localhost:8080/",
          "height": 34
        },
        "id": "ysB0X7D5V_Mf",
        "outputId": "dc584464-16b6-4e7e-9a93-b0cc964422bf"
      },
      "outputs": [
        {
          "output_type": "stream",
          "name": "stdout",
          "text": [
            "LLMGeneralTool\n"
          ]
        }
      ],
      "source": [
        "# Test the agent with a Non code-related question\n",
        "response1 = agent.chat(\"What is the relationship between Llama and Meta?\")\n",
        "for source in response1.sources:\n",
        "    print(source.tool_name)"
      ]
    },
    {
      "cell_type": "code",
      "execution_count": null,
      "metadata": {
        "id": "pdYfpsHg60MJ"
      },
      "outputs": [],
      "source": []
    },
    {
      "cell_type": "code",
      "execution_count": null,
      "metadata": {
        "id": "G4Et8oahxBDB"
      },
      "outputs": [],
      "source": []
    }
  ],
  "metadata": {
    "colab": {
      "provenance": [],
      "include_colab_link": true
    },
    "kernelspec": {
      "display_name": "llamaindexkernel",
      "language": "python",
      "name": "llamaindexkernel"
    },
    "language_info": {
      "codemirror_mode": {
        "name": "ipython",
        "version": 3
      },
      "file_extension": ".py",
      "mimetype": "text/x-python",
      "name": "python",
      "nbconvert_exporter": "python",
      "pygments_lexer": "ipython3",
      "version": "3.11.4"
    },
    "widgets": {
      "application/vnd.jupyter.widget-state+json": {
        "153dcbc045f64cecbc369261b734fbe8": {
          "model_module": "@jupyter-widgets/controls",
          "model_name": "HBoxModel",
          "model_module_version": "1.5.0",
          "state": {
            "_dom_classes": [],
            "_model_module": "@jupyter-widgets/controls",
            "_model_module_version": "1.5.0",
            "_model_name": "HBoxModel",
            "_view_count": null,
            "_view_module": "@jupyter-widgets/controls",
            "_view_module_version": "1.5.0",
            "_view_name": "HBoxView",
            "box_style": "",
            "children": [
              "IPY_MODEL_c1388ced04974e85acaa530168abfde9",
              "IPY_MODEL_bc656244d8ce40cf885ca78a166125c3",
              "IPY_MODEL_f9b7e50a96b4471bb48bb2209802e696"
            ],
            "layout": "IPY_MODEL_773e3302988640faaf8ffe0d7c501253"
          }
        },
        "c1388ced04974e85acaa530168abfde9": {
          "model_module": "@jupyter-widgets/controls",
          "model_name": "HTMLModel",
          "model_module_version": "1.5.0",
          "state": {
            "_dom_classes": [],
            "_model_module": "@jupyter-widgets/controls",
            "_model_module_version": "1.5.0",
            "_model_name": "HTMLModel",
            "_view_count": null,
            "_view_module": "@jupyter-widgets/controls",
            "_view_module_version": "1.5.0",
            "_view_name": "HTMLView",
            "description": "",
            "description_tooltip": null,
            "layout": "IPY_MODEL_7f7a165c6dfd4205b2596ec300e5565f",
            "placeholder": "​",
            "style": "IPY_MODEL_bfe47b4ccb5b44e88b6cb43e5cd22539",
            "value": "vectorstore.zip: 100%"
          }
        },
        "bc656244d8ce40cf885ca78a166125c3": {
          "model_module": "@jupyter-widgets/controls",
          "model_name": "FloatProgressModel",
          "model_module_version": "1.5.0",
          "state": {
            "_dom_classes": [],
            "_model_module": "@jupyter-widgets/controls",
            "_model_module_version": "1.5.0",
            "_model_name": "FloatProgressModel",
            "_view_count": null,
            "_view_module": "@jupyter-widgets/controls",
            "_view_module_version": "1.5.0",
            "_view_name": "ProgressView",
            "bar_style": "success",
            "description": "",
            "description_tooltip": null,
            "layout": "IPY_MODEL_ba1ff88443f64caab39e72e81fad1190",
            "max": 97198458,
            "min": 0,
            "orientation": "horizontal",
            "style": "IPY_MODEL_ebaa610464924effb5739f74d487b4d9",
            "value": 97198458
          }
        },
        "f9b7e50a96b4471bb48bb2209802e696": {
          "model_module": "@jupyter-widgets/controls",
          "model_name": "HTMLModel",
          "model_module_version": "1.5.0",
          "state": {
            "_dom_classes": [],
            "_model_module": "@jupyter-widgets/controls",
            "_model_module_version": "1.5.0",
            "_model_name": "HTMLModel",
            "_view_count": null,
            "_view_module": "@jupyter-widgets/controls",
            "_view_module_version": "1.5.0",
            "_view_name": "HTMLView",
            "description": "",
            "description_tooltip": null,
            "layout": "IPY_MODEL_3dad9c87a4ba404da2b96453bf4fdfcb",
            "placeholder": "​",
            "style": "IPY_MODEL_382da08e060c40fca95c207a6afd0fc2",
            "value": " 97.2M/97.2M [00:09&lt;00:00, 10.4MB/s]"
          }
        },
        "773e3302988640faaf8ffe0d7c501253": {
          "model_module": "@jupyter-widgets/base",
          "model_name": "LayoutModel",
          "model_module_version": "1.2.0",
          "state": {
            "_model_module": "@jupyter-widgets/base",
            "_model_module_version": "1.2.0",
            "_model_name": "LayoutModel",
            "_view_count": null,
            "_view_module": "@jupyter-widgets/base",
            "_view_module_version": "1.2.0",
            "_view_name": "LayoutView",
            "align_content": null,
            "align_items": null,
            "align_self": null,
            "border": null,
            "bottom": null,
            "display": null,
            "flex": null,
            "flex_flow": null,
            "grid_area": null,
            "grid_auto_columns": null,
            "grid_auto_flow": null,
            "grid_auto_rows": null,
            "grid_column": null,
            "grid_gap": null,
            "grid_row": null,
            "grid_template_areas": null,
            "grid_template_columns": null,
            "grid_template_rows": null,
            "height": null,
            "justify_content": null,
            "justify_items": null,
            "left": null,
            "margin": null,
            "max_height": null,
            "max_width": null,
            "min_height": null,
            "min_width": null,
            "object_fit": null,
            "object_position": null,
            "order": null,
            "overflow": null,
            "overflow_x": null,
            "overflow_y": null,
            "padding": null,
            "right": null,
            "top": null,
            "visibility": null,
            "width": null
          }
        },
        "7f7a165c6dfd4205b2596ec300e5565f": {
          "model_module": "@jupyter-widgets/base",
          "model_name": "LayoutModel",
          "model_module_version": "1.2.0",
          "state": {
            "_model_module": "@jupyter-widgets/base",
            "_model_module_version": "1.2.0",
            "_model_name": "LayoutModel",
            "_view_count": null,
            "_view_module": "@jupyter-widgets/base",
            "_view_module_version": "1.2.0",
            "_view_name": "LayoutView",
            "align_content": null,
            "align_items": null,
            "align_self": null,
            "border": null,
            "bottom": null,
            "display": null,
            "flex": null,
            "flex_flow": null,
            "grid_area": null,
            "grid_auto_columns": null,
            "grid_auto_flow": null,
            "grid_auto_rows": null,
            "grid_column": null,
            "grid_gap": null,
            "grid_row": null,
            "grid_template_areas": null,
            "grid_template_columns": null,
            "grid_template_rows": null,
            "height": null,
            "justify_content": null,
            "justify_items": null,
            "left": null,
            "margin": null,
            "max_height": null,
            "max_width": null,
            "min_height": null,
            "min_width": null,
            "object_fit": null,
            "object_position": null,
            "order": null,
            "overflow": null,
            "overflow_x": null,
            "overflow_y": null,
            "padding": null,
            "right": null,
            "top": null,
            "visibility": null,
            "width": null
          }
        },
        "bfe47b4ccb5b44e88b6cb43e5cd22539": {
          "model_module": "@jupyter-widgets/controls",
          "model_name": "DescriptionStyleModel",
          "model_module_version": "1.5.0",
          "state": {
            "_model_module": "@jupyter-widgets/controls",
            "_model_module_version": "1.5.0",
            "_model_name": "DescriptionStyleModel",
            "_view_count": null,
            "_view_module": "@jupyter-widgets/base",
            "_view_module_version": "1.2.0",
            "_view_name": "StyleView",
            "description_width": ""
          }
        },
        "ba1ff88443f64caab39e72e81fad1190": {
          "model_module": "@jupyter-widgets/base",
          "model_name": "LayoutModel",
          "model_module_version": "1.2.0",
          "state": {
            "_model_module": "@jupyter-widgets/base",
            "_model_module_version": "1.2.0",
            "_model_name": "LayoutModel",
            "_view_count": null,
            "_view_module": "@jupyter-widgets/base",
            "_view_module_version": "1.2.0",
            "_view_name": "LayoutView",
            "align_content": null,
            "align_items": null,
            "align_self": null,
            "border": null,
            "bottom": null,
            "display": null,
            "flex": null,
            "flex_flow": null,
            "grid_area": null,
            "grid_auto_columns": null,
            "grid_auto_flow": null,
            "grid_auto_rows": null,
            "grid_column": null,
            "grid_gap": null,
            "grid_row": null,
            "grid_template_areas": null,
            "grid_template_columns": null,
            "grid_template_rows": null,
            "height": null,
            "justify_content": null,
            "justify_items": null,
            "left": null,
            "margin": null,
            "max_height": null,
            "max_width": null,
            "min_height": null,
            "min_width": null,
            "object_fit": null,
            "object_position": null,
            "order": null,
            "overflow": null,
            "overflow_x": null,
            "overflow_y": null,
            "padding": null,
            "right": null,
            "top": null,
            "visibility": null,
            "width": null
          }
        },
        "ebaa610464924effb5739f74d487b4d9": {
          "model_module": "@jupyter-widgets/controls",
          "model_name": "ProgressStyleModel",
          "model_module_version": "1.5.0",
          "state": {
            "_model_module": "@jupyter-widgets/controls",
            "_model_module_version": "1.5.0",
            "_model_name": "ProgressStyleModel",
            "_view_count": null,
            "_view_module": "@jupyter-widgets/base",
            "_view_module_version": "1.2.0",
            "_view_name": "StyleView",
            "bar_color": null,
            "description_width": ""
          }
        },
        "3dad9c87a4ba404da2b96453bf4fdfcb": {
          "model_module": "@jupyter-widgets/base",
          "model_name": "LayoutModel",
          "model_module_version": "1.2.0",
          "state": {
            "_model_module": "@jupyter-widgets/base",
            "_model_module_version": "1.2.0",
            "_model_name": "LayoutModel",
            "_view_count": null,
            "_view_module": "@jupyter-widgets/base",
            "_view_module_version": "1.2.0",
            "_view_name": "LayoutView",
            "align_content": null,
            "align_items": null,
            "align_self": null,
            "border": null,
            "bottom": null,
            "display": null,
            "flex": null,
            "flex_flow": null,
            "grid_area": null,
            "grid_auto_columns": null,
            "grid_auto_flow": null,
            "grid_auto_rows": null,
            "grid_column": null,
            "grid_gap": null,
            "grid_row": null,
            "grid_template_areas": null,
            "grid_template_columns": null,
            "grid_template_rows": null,
            "height": null,
            "justify_content": null,
            "justify_items": null,
            "left": null,
            "margin": null,
            "max_height": null,
            "max_width": null,
            "min_height": null,
            "min_width": null,
            "object_fit": null,
            "object_position": null,
            "order": null,
            "overflow": null,
            "overflow_x": null,
            "overflow_y": null,
            "padding": null,
            "right": null,
            "top": null,
            "visibility": null,
            "width": null
          }
        },
        "382da08e060c40fca95c207a6afd0fc2": {
          "model_module": "@jupyter-widgets/controls",
          "model_name": "DescriptionStyleModel",
          "model_module_version": "1.5.0",
          "state": {
            "_model_module": "@jupyter-widgets/controls",
            "_model_module_version": "1.5.0",
            "_model_name": "DescriptionStyleModel",
            "_view_count": null,
            "_view_module": "@jupyter-widgets/base",
            "_view_module_version": "1.2.0",
            "_view_name": "StyleView",
            "description_width": ""
          }
        }
      }
    }
  },
  "nbformat": 4,
  "nbformat_minor": 0
}