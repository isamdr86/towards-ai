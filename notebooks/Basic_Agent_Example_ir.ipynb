{
  "nbformat": 4,
  "nbformat_minor": 0,
  "metadata": {
    "colab": {
      "provenance": [],
      "include_colab_link": true
    },
    "kernelspec": {
      "name": "python3",
      "display_name": "Python 3"
    },
    "language_info": {
      "name": "python"
    }
  },
  "cells": [
    {
      "cell_type": "markdown",
      "metadata": {
        "id": "view-in-github",
        "colab_type": "text"
      },
      "source": [
        "<a href=\"https://colab.research.google.com/github/isamdr86/towards-ai/blob/main/notebooks/Basic_Agent_Example_ir.ipynb\" target=\"_parent\"><img src=\"https://colab.research.google.com/assets/colab-badge.svg\" alt=\"Open In Colab\"/></a>"
      ]
    },
    {
      "cell_type": "markdown",
      "source": [
        "## Install requirements"
      ],
      "metadata": {
        "id": "-FwCJOqEQJUB"
      }
    },
    {
      "cell_type": "code",
      "source": [
        "pip install -U duckduckgo_search openai==1.51.0 --quiet"
      ],
      "metadata": {
        "id": "kfJYlxFVgJir",
        "outputId": "223c4969-fb37-4940-b001-894050c95069",
        "colab": {
          "base_uri": "https://localhost:8080/"
        }
      },
      "execution_count": 1,
      "outputs": [
        {
          "output_type": "stream",
          "name": "stdout",
          "text": [
            "\u001b[2K   \u001b[90m━━━━━━━━━━━━━━━━━━━━━━━━━━━━━━━━━━━━━━━━\u001b[0m \u001b[32m383.5/383.5 kB\u001b[0m \u001b[31m7.8 MB/s\u001b[0m eta \u001b[36m0:00:00\u001b[0m\n",
            "\u001b[2K   \u001b[90m━━━━━━━━━━━━━━━━━━━━━━━━━━━━━━━━━━━━━━━━\u001b[0m \u001b[32m3.3/3.3 MB\u001b[0m \u001b[31m32.6 MB/s\u001b[0m eta \u001b[36m0:00:00\u001b[0m\n",
            "\u001b[?25h"
          ]
        }
      ]
    },
    {
      "cell_type": "code",
      "source": [
        "\n",
        "%%capture\n",
        "!pip install openai==1.55.3 httpx==0.27.2 tiktoken==0.7.0 --force-reinstall"
      ],
      "metadata": {
        "id": "niArV4YPGWyG"
      },
      "execution_count": 8,
      "outputs": []
    },
    {
      "cell_type": "code",
      "source": [
        "import os\n",
        "os.kill(os.getpid(), 9)"
      ],
      "metadata": {
        "id": "96n0_nkDGWhS"
      },
      "execution_count": null,
      "outputs": []
    },
    {
      "cell_type": "markdown",
      "source": [
        "## Setup Enviornment variables"
      ],
      "metadata": {
        "id": "CDKt6U0JmiOY"
      }
    },
    {
      "cell_type": "code",
      "source": [
        "import getpass\n",
        "\n",
        "\n",
        "import os\n",
        "from google.colab import userdata\n",
        "os.environ[\"OPENAI_API_KEY\"] = userdata.get('openai_api_key')"
      ],
      "metadata": {
        "id": "p0QOcu-OYKw0"
      },
      "execution_count": 1,
      "outputs": []
    },
    {
      "cell_type": "markdown",
      "source": [
        "## Setting Up Tools"
      ],
      "metadata": {
        "id": "aEu_qYO4ghI3"
      }
    },
    {
      "cell_type": "code",
      "source": [
        "from duckduckgo_search import DDGS\n",
        "\n",
        "def search(query):\n",
        "    \"\"\"\n",
        "    perform a search on for the given query and return the results\n",
        "    :param query: the query to search for\n",
        "    :return: the search results\n",
        "    \"\"\"\n",
        "    response = DDGS().text(query, max_results=5)\n",
        "    results = [\n",
        "        {\"snippet\": r[\"body\"], \"title\": r[\"title\"], \"link\": r[\"href\"]}\n",
        "        for r in response\n",
        "    ]\n",
        "\n",
        "    formatted_results = \"\"\n",
        "    for result in results:\n",
        "        formatted_results += f\"Title: {result['title']}\\n\"\n",
        "        formatted_results += f\"Snippet: {result['snippet']}\\n\"\n",
        "        formatted_results += \"----\\n\"\n",
        "\n",
        "    return formatted_results\n"
      ],
      "metadata": {
        "id": "-hrcnzMEiPBx"
      },
      "execution_count": 2,
      "outputs": []
    },
    {
      "cell_type": "code",
      "source": [
        "def evaluate_expression(operation: str) -> float:\n",
        "    \"\"\"\n",
        "    perform a calculation on the given operation and return the result\n",
        "    :param operation: the operation to perform, should be compatible to use with eval eg: operation: \"1+2\"\n",
        "    :return: the result of the operation\n",
        "    \"\"\"\n",
        "    return eval(operation)"
      ],
      "metadata": {
        "id": "7g6kAKbIsP6p"
      },
      "execution_count": 3,
      "outputs": []
    },
    {
      "cell_type": "code",
      "source": [
        "print(search(\"llama index\"))"
      ],
      "metadata": {
        "colab": {
          "base_uri": "https://localhost:8080/"
        },
        "id": "kzmjpvaBiARo",
        "outputId": "0efa1bd8-fe6a-4f04-a20f-3a4c6775d8c5"
      },
      "execution_count": 4,
      "outputs": [
        {
          "output_type": "stream",
          "name": "stdout",
          "text": [
            "Title: LlamaIndex - LlamaIndex\n",
            "Snippet: LlamaIndex is a library and a platform for building generative AI applications with LLMs and data. Learn how to use data connectors, indices, engines, agents, workflows, and more to create context-augmented use cases like RAG, chatbots, and autonomous agents.\n",
            "----\n",
            "Title: GitHub - run-llama/llama_index: LlamaIndex is the leading framework for ...\n",
            "Snippet: Starter: llama-index. A starter Python package that includes core LlamaIndex as well as a selection of integrations. Customized: llama-index-core. Install core LlamaIndex and add your chosen LlamaIndex integration packages on LlamaHub that are required for your application. There are over 300 LlamaIndex integration packages that work seamlessly ...\n",
            "----\n",
            "Title: llama-index · PyPI\n",
            "Snippet: Starter: llama-index. A starter Python package that includes core LlamaIndex as well as a selection of integrations. Customized: llama-index-core. Install core LlamaIndex and add your chosen LlamaIndex integration packages on LlamaHub that are required for your application. There are over 300 LlamaIndex integration packages that work seamlessly ...\n",
            "----\n",
            "Title: Framework — LlamaIndex - Build Knowledge Assistants over your ...\n",
            "Snippet: Pip install llama-index Documentation. npm install llamaindex Documentation. Open Source Learn and discuss Templates Eval Datasets Data Loaders Vector Stores LLMs Agent & Tools Integrations Core Framework. ... Store and index your data for different use cases. Integrate with 40+ vector store, document store, graph store, and SQL db providers ...\n",
            "----\n",
            "Title: LlamaIndex - Build Knowledge Assistants over your Enterprise Data\n",
            "Snippet: Index unstructured knowledge base of PDFs, Powerpoints, Excel sheets, and more. Build and deploy knowledge assistants in minutes. Powers production knowledge assistants within finance, manufacturing, professional services, IT, and more\n",
            "----\n",
            "\n"
          ]
        }
      ]
    },
    {
      "cell_type": "markdown",
      "source": [
        "## Creating Agent"
      ],
      "metadata": {
        "id": "MiLV8jjioV7U"
      }
    },
    {
      "cell_type": "code",
      "source": [
        "import re\n",
        "from openai import OpenAI\n",
        "\n",
        "class Agent:\n",
        "    def __init__(self, client: OpenAI, tools):\n",
        "        \"\"\"\n",
        "        Initialize the Agent class.\n",
        "\n",
        "        Args:\n",
        "        client (OpenAI): The OpenAI client instance.\n",
        "        tools (list): A list of tool functions.\n",
        "        \"\"\"\n",
        "        self.client = client\n",
        "        self.tools = tools\n",
        "        self.memory = []\n",
        "\n",
        "    def get_agent_prompt(self) -> str:\n",
        "        \"\"\"\n",
        "        Generate the agent prompt string.\n",
        "\n",
        "        Returns:\n",
        "        str: The agent prompt string.\n",
        "        \"\"\"\n",
        "        tools_str = \"\\n\".join(\n",
        "            [f\"Action:{tool.__name__}\\nAction Input:{tool.__doc__} \\n\" for tool in self.tools]\n",
        "        )\n",
        "        system_prompt = f\"\"\"\n",
        "        You run in a loop of Thought, Action, Observation.\n",
        "        At the end of the loop you output an Answer\n",
        "        Use Thought to describe your thoughts about the question you have been asked.\n",
        "        Use Action to run one of the actions available to you.\n",
        "        Observation will be the result of running those actions.\n",
        "\n",
        "        Your available actions are:\n",
        "          {tools_str}\n",
        "\n",
        "        Try to break the search query into multiple query for good results\n",
        "\n",
        "        Always return in this format\n",
        "        Question: the question\n",
        "        Thought: your thoughts about the question\n",
        "        Action: tool_name: the input to the action\n",
        "\n",
        "        Example session:\n",
        "        Question: New York is in which country?\n",
        "        Thought: I should search for new york in web\n",
        "        Action: search: new york\n",
        "\n",
        "        You will be called again with this:\n",
        "\n",
        "        Observation: New york is a city in the United States of America.\n",
        "\n",
        "        You then output:\n",
        "        Final Answer: New York is in the United States of America.\n",
        "        \"\"\"\n",
        "        return system_prompt\n",
        "\n",
        "    def add_agent_steps_in_memory(self, role: str, content: str) -> None:\n",
        "        \"\"\"\n",
        "        Add agent steps to memory.\n",
        "\n",
        "        Args:\n",
        "        role (str): The role of the agent step.\n",
        "        content (str): The content of the agent step.\n",
        "        \"\"\"\n",
        "        self.memory.append({\"role\": role, \"content\": content})\n",
        "\n",
        "    def invoke(self, user_input: str, max_iterations: int = 10) -> str:\n",
        "        \"\"\"\n",
        "        Invoke the agent.\n",
        "\n",
        "        Args:\n",
        "        user_input (str): The user input string.\n",
        "        max_iterations (int): The maximum number of iterations.\n",
        "\n",
        "        Returns:\n",
        "        str: The final answer.\n",
        "        \"\"\"\n",
        "        i = 0\n",
        "        self.add_agent_steps_in_memory(\"system\", self.get_agent_prompt())\n",
        "        current_message = user_input\n",
        "        tool_names = [tool.__name__ for tool in self.tools]\n",
        "\n",
        "        while i < max_iterations:\n",
        "            print(f\"Iteration: {i+1}\")\n",
        "            i += 1\n",
        "            self.add_agent_steps_in_memory(\"user\", current_message)\n",
        "            result = self.client.chat.completions.create(\n",
        "                messages=self.memory,\n",
        "                model=\"gpt-4o\",\n",
        "                temperature=0.2\n",
        "            )\n",
        "            agent_output = result.choices[0].message.content\n",
        "            print(agent_output)\n",
        "            self.add_agent_steps_in_memory(\"assistant\", agent_output)\n",
        "\n",
        "            if \"Action\" in agent_output:\n",
        "                action = re.findall(r\"Action: ([a-z_]+): (.+)\", agent_output, re.IGNORECASE)\n",
        "                print(action)\n",
        "                chosen_tool = action[0][0]\n",
        "                arg = action[0][1]\n",
        "\n",
        "                if chosen_tool in tool_names:\n",
        "                    result_tool = eval(f\"{chosen_tool}('{arg}')\")\n",
        "                    current_message = f\"Observation:\\n {result_tool}\"\n",
        "                    print(f\"chosen tool: {chosen_tool}\")\n",
        "                    print(f\"arg: {arg}\")\n",
        "                    print(current_message)\n",
        "                else:\n",
        "                    current_message = \"Observation: Tool not found\"\n",
        "                continue\n",
        "\n",
        "            print(\"----------------------------------------------------------\")\n",
        "\n",
        "            if \"Final Answer\" in agent_output:\n",
        "                return agent_output"
      ],
      "metadata": {
        "id": "jk3TxbcJnnKq"
      },
      "execution_count": 5,
      "outputs": []
    },
    {
      "cell_type": "code",
      "source": [
        "client = OpenAI(api_key = os.environ[\"OPENAI_API_KEY\"])\n",
        "tools = [search, evaluate_expression]\n",
        "agent = Agent(client, tools)\n",
        "output = agent.invoke(\"what is differnce between stock price of microsoft and nvidia in 2024? Which has higher stock price?\")\n",
        "print(f\"Final Output-> {output}\")"
      ],
      "metadata": {
        "colab": {
          "base_uri": "https://localhost:8080/"
        },
        "id": "nc6Zqqjuwqqz",
        "outputId": "739dc596-3062-4f4b-c396-f36537f7c624"
      },
      "execution_count": 6,
      "outputs": [
        {
          "output_type": "stream",
          "name": "stdout",
          "text": [
            "Iteration: 1\n",
            "Question: What is the difference between the stock price of Microsoft and Nvidia in 2024? Which has a higher stock price?\n",
            "Thought: I need to search for the stock prices of Microsoft and Nvidia in 2024 to determine the difference and which one is higher.\n",
            "Action: search: Microsoft stock price 2024\n",
            "\n",
            "Action: search: Nvidia stock price 2024\n",
            "[('search', 'Microsoft stock price 2024'), ('search', 'Nvidia stock price 2024')]\n",
            "chosen tool: search\n",
            "arg: Microsoft stock price 2024\n",
            "Observation:\n",
            " Title: Microsoft (MSFT) Stock Forecast and Price Target 2025 - MarketBeat\n",
            "Snippet: 12/18/2024: Stifel Nicolaus Subscribe to MarketBeat All Access for the recommendation accuracy rating : Boost Target: Buy Buy: $475.00 $515.00 +13.93%: 12/18/2024: ... Microsoft's current stock price is $418.95, which is below the consensus price target of $511.62, indicating potential upside for investors looking to buy at a lower price. ...\n",
            "----\n",
            "Title: Microsoft Corporation (MSFT) Stock Forecast & Price Targets - Stock ...\n",
            "Snippet: The 30 analysts with 12-month price forecasts for Microsoft stock have an average target of 511.07, with a low estimate of 465 and a high estimate of 600. The average target predicts an increase of 19.12% from the current stock price of 429.03. ... FY 2024 FY 2025 FY 2026 FY 2027 FY 2028 FY 2029 ; Period Ending Jun 30, 2020 Jun 30, 2021 Jun 30 ...\n",
            "----\n",
            "Title: Microsoft Corporation (MSFT) Stock Forecast & Price Prediction 2024 ...\n",
            "Snippet: In 2025, the MSFT stock price is expected to fluctuate between $854.51 and $986.33. According to the monthly forecast, the stock could rise to $986.33 by December 2024. If compared to the MSFT's current price, the stock could gain 132.32% by the end of this year. Long-term MSFT Stock Price Prediction & Forecast\n",
            "----\n",
            "Title: Microsoft (MSFT) stock forecast and price prediction - USA TODAY\n",
            "Snippet: Microsoft stock forecast 2024 Analysts are generally optimistic about Microsoft's business and stock price in 2024. The analysts covering MSFT project full-year adjusted earnings per share of $11. ...\n",
            "----\n",
            "Title: Where Will Microsoft Stock Be in 3 Years? | The Motley Fool\n",
            "Snippet: Microsoft stock did see a dip in its stock price following the release of the company's fiscal 2024 second-quarter results on Jan. 30. It seems investors had some concern about an increase in its ...\n",
            "----\n",
            "\n",
            "Iteration: 2\n",
            "Action: search: Nvidia stock price 2024\n",
            "[('search', 'Nvidia stock price 2024')]\n",
            "chosen tool: search\n",
            "arg: Nvidia stock price 2024\n",
            "Observation:\n",
            " Title: Nvidia Stock Price Prediction 2025, 2026, 2027-2029\n",
            "Snippet: Averaged Nvidia stock price for the month 135. At the end 132 dollars, change for January -1.5%. Nvidia stock prediction for February 2025. The forecast for beginning 132 dollars. Maximum price 161, minimum 117. Averaged Nvidia stock price for the month 134. At the end 127 dollars, change for February -3.8%. Nvidia stock price forecast for ...\n",
            "----\n",
            "Title: NVIDIA Corporation (NVDA) Stock Forecast & Price Targets - Stock Analysis\n",
            "Snippet: The 40 analysts with 12-month price forecasts for NVIDIA stock have an average target of 167.85, with a low estimate of 87 and a high estimate of 220. The average target predicts an increase of 21.89% from the current stock price of 137.71. ... FY 2024 FY 2025 FY 2026 FY 2027 FY 2028 FY 2029 FY 2030 ; Period Ending Jan 26, 2020 Jan 31, 2021 Jan ...\n",
            "----\n",
            "Title: Nvidia Stock Price Prediction 2025, 2030, 2040, 2050\n",
            "Snippet: Investors love Nvidia's unique goods and strong market position; therefore, many speculate about its stock prospects. This article will analyze Nvidia stock price estimates for 2024, 2025, 2030, 2040, and 2050, earnings, expert forecasts, and bull and bear justifications for investing in the firm.\n",
            "----\n",
            "Title: Nvidia Stock Price Prediction: 2025, 2026, 2030 - Benzinga\n",
            "Snippet: Explore expert predictions for Nvidia's stock price in 2025, 2026 and 2030, with insights on market trends, AI growth and future valuations.\n",
            "----\n",
            "Title: NVIDIA (NVDA) Stock Forecast and Price Target 2025 - MarketBeat\n",
            "Snippet: 11/22/2024: Phillip Securities Subscribe to MarketBeat All Access for the recommendation accuracy rating: ... According to the research reports of 43 Wall Street equities research analysts, the average twelve-month stock price forecast for NVIDIA is $164.63, with a high forecast of $220.00 and a low forecast of $85.00. ...\n",
            "----\n",
            "\n",
            "Iteration: 3\n",
            "Observation: The stock price of Microsoft in 2024 is around $418.95, while the stock price of Nvidia in 2024 is approximately $137.71.\n",
            "\n",
            "Final Answer: In 2024, Microsoft's stock price is higher than Nvidia's. The stock price of Microsoft is approximately $418.95, whereas Nvidia's stock price is around $137.71. The difference in their stock prices is $281.24, with Microsoft having the higher stock price.\n",
            "----------------------------------------------------------\n",
            "Final Output-> Observation: The stock price of Microsoft in 2024 is around $418.95, while the stock price of Nvidia in 2024 is approximately $137.71.\n",
            "\n",
            "Final Answer: In 2024, Microsoft's stock price is higher than Nvidia's. The stock price of Microsoft is approximately $418.95, whereas Nvidia's stock price is around $137.71. The difference in their stock prices is $281.24, with Microsoft having the higher stock price.\n"
          ]
        }
      ]
    }
  ]
}