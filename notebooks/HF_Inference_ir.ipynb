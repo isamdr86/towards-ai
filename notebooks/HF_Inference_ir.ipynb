{
  "cells": [
    {
      "cell_type": "markdown",
      "metadata": {
        "id": "view-in-github",
        "colab_type": "text"
      },
      "source": [
        "<a href=\"https://colab.research.google.com/github/isamdr86/towards-ai/blob/main/notebooks/HF_Inference_ir.ipynb\" target=\"_parent\"><img src=\"https://colab.research.google.com/assets/colab-badge.svg\" alt=\"Open In Colab\"/></a>"
      ]
    },
    {
      "cell_type": "code",
      "execution_count": 1,
      "metadata": {
        "id": "7ujoMFzt1W8e"
      },
      "outputs": [],
      "source": [
        "!pip install -q requests huggingface_hub"
      ]
    },
    {
      "cell_type": "code",
      "execution_count": 3,
      "metadata": {
        "id": "DW1zKIWiO-75"
      },
      "outputs": [],
      "source": [
        "# Set the following API Keys in the Python environment. Will be used later.\n",
        "from google.colab import userdata\n",
        "HF_API_TOKEN = userdata.get('huggingface_api_key')"
      ]
    },
    {
      "cell_type": "code",
      "execution_count": 4,
      "metadata": {
        "id": "QWUU55nIXRBT"
      },
      "outputs": [],
      "source": [
        "from huggingface_hub import login\n",
        "\n",
        "login(token=HF_API_TOKEN)"
      ]
    },
    {
      "cell_type": "code",
      "execution_count": 5,
      "metadata": {
        "id": "LDzGdD_fOVqD"
      },
      "outputs": [],
      "source": [
        "import requests\n",
        "\n",
        "\n",
        "def query(payload, model_name):\n",
        "    API_URL = f\"https://api-inference.huggingface.co/models/{model_name}\"\n",
        "    headers = {\"Authorization\": f\"Bearer {HF_API_TOKEN}\"}\n",
        "\n",
        "    response = requests.post(API_URL, headers=headers, json=payload)\n",
        "\n",
        "    return response.json()"
      ]
    },
    {
      "cell_type": "markdown",
      "metadata": {
        "id": "Ja_HCApgX4kh"
      },
      "source": [
        "# API\n"
      ]
    },
    {
      "cell_type": "markdown",
      "metadata": {
        "id": "LkTu5QCuUlgK"
      },
      "source": [
        "## GPT-2 for Text Completion\n"
      ]
    },
    {
      "cell_type": "code",
      "execution_count": 6,
      "metadata": {
        "id": "dKYyNb3ePxC0"
      },
      "outputs": [],
      "source": [
        "data = query({\"inputs\": \"Can you please let us know more details about\"}, \"gpt2\")"
      ]
    },
    {
      "cell_type": "code",
      "execution_count": 7,
      "metadata": {
        "colab": {
          "base_uri": "https://localhost:8080/"
        },
        "id": "lTDg5rPXXznh",
        "outputId": "9a978974-3e4f-4880-b9e2-2580684caa62"
      },
      "outputs": [
        {
          "output_type": "execute_result",
          "data": {
            "text/plain": [
              "[{'generated_text': 'Can you please let us know more details about our artists to accommodate the latest selection and provide free access for all their service. Supermedia flat sheet music is completed by the talented members of our crew No. 10 Rex Long, Main Producing P&B Beauclair from House of City of Heck. Our custom punched plexiglass sets are done by the exceptional engineers of House of City of Heck, featuring our custom cut logo vinyl designs from gutter details and left-of-center brick rock design from the iconic featured friend of Massive Hadley who leaves a billion miles a second. Then the custom pre-installed Trojan GPS units which automatically detect and control on KYC computer are installed on the tape, ready to connect the Media Center. HDMI,com TV services, Music and Music Streaming. All of its music, podcasts and podcasting meters pass through the huge CPU power of House of City of Heck to offer the intelligently designed 7.5 channel, channeled \"Domain\" broadcast dedicated Sound Current Meter that can evaluate the current low glp up to 255MIPS! The receiver kit includes EcoCable Low Gain Pattern VCR 6 Parameters and Media / Renoise/Connect Control w/ Suspension Head Mount w/ 2425-Res In-Wonder X-axis Hose in Magnifying Glass Body For Monitoring Smartphone, TV and Any way Technology, DVR, Audio Gear. In addition the Audio Something Shop will run together with Gate Shovel cut-off holes, accessed via the headphone 26.5 mm jack to transfer large noise source from the peripheral cache to the antenna Perplexing Red light set with untie the power cord lowers the WR300M Everyone able to watch wide open liveView video or watch long internet content in silence only with this Tune-o-Murcial system. Also offer professionally designed drone control features with centralized audio files on Virtual Channel Radios. 12 Channel input output (excluding Auto Flowscillator FX 7.12\" power cable)work from the free Features Room video cables for emergency emergency audio to computers and devices. Features Lost Decrypt Sound Compression state constant input requires via Power Strip Coherent Mode. To Receive Music from Record Hardened Soft and HardBuilt hard-ground DVD\\'s, Lock screen returns files of FW7152 originally. Free presets for windows 9.1, 8, 9.2 and 9.4, Premium DVD to Old North (Resolution or ETF) stereod, Ultrasonic and Jewish Movies and shows of the World DVD streams return NEW BANDMARK ILEUMMBRO Manual History of Internet traffic, rules and Guidelines was very interactive by Marine aboard the Nomad in June 1991 who spent a day at Marine Center bright lit up by laser systems which focusedinar own distance Display Port. Now ready to engage the standard stereo controls. Vision Stunning analog master stereo. Digital pad to DVI inputs, drive P850s down for audio feedlays 15 Tuned RF buffer handling Hi-fi headphones are ready to be played dynamic shifts from 1 positive bidirectional antenna to 5 neutral or 50 negative targets. As well as listening to type and frequency received 2 or 3 semi-nouveau happy tones and low volume shutters Install Ping sniffer / margin looking Bell radios (was Windows Phone as advertised) Laser onboard E306 is for operating the http server located at premium Technologies Center. Kobawoy Database and / or photographers, a hyper button programming app with mouse and keyboard app for Neighborhood Explorer to tell if local shops/information systems got way niled and hung up 8K stream and thumbnail size 400 Mbit video display available movie and compartment playback top, bottom and center Play volumes and name of nearby location\\n\\nthen settings with click of search on Eclipse commons notebook in center table\\n\\nselected/Eclipse images with dial to bring to first thumbnail download tab\\n\\n to addDroid and to createWorld thumbnail web. Home page Makes Tubes give Native Title displayed by Shot o 3 Axis slids\\n\\nonly mounted/backged List so you need them where needed\\n\\nSelect sync round-trip email option Use ALT from dial or only to connect extra remote where needed REMIND on preset to find MIDI Track file configured to send MP3. Setup EQ or logitech thru compatible controller use Long Row after pedal up, it typesfine adjustments using that listener State cool, no floats, no tech switches?\\n\\n22-pin Voltage Header V-Power Connect for Fast 6\\n\\nC Rear Slot way high can help to extensive audio show Failure to tune instead using all lag Fixed Nuts still expanded in FLAC can optimize mixes, high quality, customizable?\\n\\nDC Side Remote to enable requirements Local Audio, external while on channel live Trearlate nested the hi-fi vents with different narrow teamed arms L3 plumb. Component ls finding iPod out in Control Sequence Sew your highlighted songs Home those SD and USB cables persistedilts 5 News Skipping pad th output pads I can keep track of my Additional 2 speakers option Sound sets it all apart Save configuration of sound'}]"
            ]
          },
          "metadata": {},
          "execution_count": 7
        }
      ],
      "source": [
        "data"
      ]
    },
    {
      "cell_type": "code",
      "execution_count": 8,
      "metadata": {
        "colab": {
          "base_uri": "https://localhost:8080/"
        },
        "id": "7JnvDiRkP6Oy",
        "outputId": "3ed90798-9f1d-4af4-f280-5c6afa8b9ae1"
      },
      "outputs": [
        {
          "output_type": "stream",
          "name": "stdout",
          "text": [
            "Can you please let us know more details about our artists to accommodate the latest selection and provide free access for all their service. Supermedia flat sheet music is completed by the talented members of our crew No. 10 Rex Long, Main Producing P&B Beauclair from House of City of Heck. Our custom punched plexiglass sets are done by the exceptional engineers of House of City of Heck, featuring our custom cut logo vinyl designs from gutter details and left-of-center brick rock design from the iconic featured friend of Massive Hadley who leaves a billion miles a second. Then the custom pre-installed Trojan GPS units which automatically detect and control on KYC computer are installed on the tape, ready to connect the Media Center. HDMI,com TV services, Music and Music Streaming. All of its music, podcasts and podcasting meters pass through the huge CPU power of House of City of Heck to offer the intelligently designed 7.5 channel, channeled \"Domain\" broadcast dedicated Sound Current Meter that can evaluate the current low glp up to 255MIPS! The receiver kit includes EcoCable Low Gain Pattern VCR 6 Parameters and Media / Renoise/Connect Control w/ Suspension Head Mount w/ 2425-Res In-Wonder X-axis Hose in Magnifying Glass Body For Monitoring Smartphone, TV and Any way Technology, DVR, Audio Gear. In addition the Audio Something Shop will run together with Gate Shovel cut-off holes, accessed via the headphone 26.5 mm jack to transfer large noise source from the peripheral cache to the antenna Perplexing Red light set with untie the power cord lowers the WR300M Everyone able to watch wide open liveView video or watch long internet content in silence only with this Tune-o-Murcial system. Also offer professionally designed drone control features with centralized audio files on Virtual Channel Radios. 12 Channel input output (excluding Auto Flowscillator FX 7.12\" power cable)work from the free Features Room video cables for emergency emergency audio to computers and devices. Features Lost Decrypt Sound Compression state constant input requires via Power Strip Coherent Mode. To Receive Music from Record Hardened Soft and HardBuilt hard-ground DVD's, Lock screen returns files of FW7152 originally. Free presets for windows 9.1, 8, 9.2 and 9.4, Premium DVD to Old North (Resolution or ETF) stereod, Ultrasonic and Jewish Movies and shows of the World DVD streams return NEW BANDMARK ILEUMMBRO Manual History of Internet traffic, rules and Guidelines was very interactive by Marine aboard the Nomad in June 1991 who spent a day at Marine Center bright lit up by laser systems which focusedinar own distance Display Port. Now ready to engage the standard stereo controls. Vision Stunning analog master stereo. Digital pad to DVI inputs, drive P850s down for audio feedlays 15 Tuned RF buffer handling Hi-fi headphones are ready to be played dynamic shifts from 1 positive bidirectional antenna to 5 neutral or 50 negative targets. As well as listening to type and frequency received 2 or 3 semi-nouveau happy tones and low volume shutters Install Ping sniffer / margin looking Bell radios (was Windows Phone as advertised) Laser onboard E306 is for operating the http server located at premium Technologies Center. Kobawoy Database and / or photographers, a hyper button programming app with mouse and keyboard app for Neighborhood Explorer to tell if local shops/information systems got way niled and hung up 8K stream and thumbnail size 400 Mbit video display available movie and compartment playback top, bottom and center Play volumes and name of nearby location\n",
            "\n",
            "then settings with click of search on Eclipse commons notebook in center table\n",
            "\n",
            "selected/Eclipse images with dial to bring to first thumbnail download tab\n",
            "\n",
            " to addDroid and to createWorld thumbnail web. Home page Makes Tubes give Native Title displayed by Shot o 3 Axis slids\n",
            "\n",
            "only mounted/backged List so you need them where needed\n",
            "\n",
            "Select sync round-trip email option Use ALT from dial or only to connect extra remote where needed REMIND on preset to find MIDI Track file configured to send MP3. Setup EQ or logitech thru compatible controller use Long Row after pedal up, it typesfine adjustments using that listener State cool, no floats, no tech switches?\n",
            "\n",
            "22-pin Voltage Header V-Power Connect for Fast 6\n",
            "\n",
            "C Rear Slot way high can help to extensive audio show Failure to tune instead using all lag Fixed Nuts still expanded in FLAC can optimize mixes, high quality, customizable?\n",
            "\n",
            "DC Side Remote to enable requirements Local Audio, external while on channel live Trearlate nested the hi-fi vents with different narrow teamed arms L3 plumb. Component ls finding iPod out in Control Sequence Sew your highlighted songs Home those SD and USB cables persistedilts 5 News Skipping pad th output pads I can keep track of my Additional 2 speakers option Sound sets it all apart Save configuration of sound\n"
          ]
        }
      ],
      "source": [
        "print(data[0][\"generated_text\"])"
      ]
    },
    {
      "cell_type": "markdown",
      "metadata": {
        "id": "ZQDcZ_V8UoJk"
      },
      "source": [
        "## Llama-3 8B\n"
      ]
    },
    {
      "cell_type": "code",
      "execution_count": null,
      "metadata": {
        "id": "LlKTaekdRAc8"
      },
      "outputs": [],
      "source": [
        "data = query(\n",
        "    {\"inputs\": \"Write a poem about blue sky.\"}, \"meta-llama/Meta-Llama-3-8B-Instruct\"\n",
        ")"
      ]
    },
    {
      "cell_type": "code",
      "execution_count": null,
      "metadata": {
        "id": "t-l92bDtRAat"
      },
      "outputs": [],
      "source": [
        "data[0][\"generated_text\"]"
      ]
    },
    {
      "cell_type": "markdown",
      "metadata": {
        "id": "QKPe-_wGUxBq"
      },
      "source": [
        "## Summarization\n"
      ]
    },
    {
      "cell_type": "code",
      "execution_count": null,
      "metadata": {
        "id": "Fbc6cOXLURqN"
      },
      "outputs": [],
      "source": [
        "text_to_summarize = \"\"\"Wall Street was quiet Friday ahead of the monthly jobs report.\n",
        "S&P and Nasdaq futures were little changed and Dow futures were a couple of points lower.\n",
        "It’s been a shortened week for traders, with markets closing early Wednesday and closed all day Thursday in observance of the July 4th holiday.\n",
        "Investors are looking for another Goldilocks jobs report Friday that shows a gentle cooling-off of the labor market.\n",
        "Wednesday’s ADP data, which showed that private payrolls fell to 150,000, created little reaction among traders\n",
        "— but the government’s monthly tally will likely trigger more of a response.\"\"\"\n",
        "\n",
        "data = query({\"inputs\": text_to_summarize}, \"facebook/bart-large-cnn\")"
      ]
    },
    {
      "cell_type": "code",
      "execution_count": null,
      "metadata": {
        "id": "-gyShPJTURlT"
      },
      "outputs": [],
      "source": [
        "data[0][\"summary_text\"]"
      ]
    },
    {
      "cell_type": "markdown",
      "metadata": {
        "id": "0o8zEflXVIkn"
      },
      "source": [
        "## Sentiment Analysis\n"
      ]
    },
    {
      "cell_type": "code",
      "execution_count": null,
      "metadata": {
        "id": "1osFZIZaVILp"
      },
      "outputs": [],
      "source": [
        "text_to_analyse = \"\"\"I love how this app simplifies complex tasks \\\n",
        "effortlessly . I'm frustrated by the frequent errors in the software's \\\n",
        "latest update\"\"\"\n",
        "\n",
        "data = query(\n",
        "    {\"inputs\": text_to_summarize}, \"distilbert-base-uncased-finetuned-sst-2-english\"\n",
        ")"
      ]
    },
    {
      "cell_type": "code",
      "execution_count": null,
      "metadata": {
        "id": "jydfp3NeURik"
      },
      "outputs": [],
      "source": [
        "print(data[0])"
      ]
    },
    {
      "cell_type": "markdown",
      "metadata": {
        "id": "Ban4tf-Xdp3-"
      },
      "source": [
        "## Example of Loading Model\n"
      ]
    },
    {
      "cell_type": "code",
      "execution_count": null,
      "metadata": {
        "id": "rnSMaBhDdbvm"
      },
      "outputs": [],
      "source": [
        "data"
      ]
    },
    {
      "cell_type": "markdown",
      "metadata": {
        "id": "dPWBYfqMX0in"
      },
      "source": [
        "# Local\n"
      ]
    },
    {
      "cell_type": "markdown",
      "metadata": {
        "id": "fJJRdFZXVYqG"
      },
      "source": [
        "## Text-to-image\n"
      ]
    },
    {
      "cell_type": "code",
      "execution_count": null,
      "metadata": {
        "id": "9mul8JIVURa4"
      },
      "outputs": [],
      "source": [
        "!pip install -q -U diffusers transformers torch torchvision"
      ]
    },
    {
      "cell_type": "code",
      "execution_count": null,
      "metadata": {
        "id": "wjESqQLa-LLj"
      },
      "outputs": [],
      "source": [
        "import transformers\n",
        "transformers.utils.move_cache()"
      ]
    },
    {
      "cell_type": "code",
      "execution_count": null,
      "metadata": {
        "collapsed": true,
        "id": "-CBLEpBwpFkA"
      },
      "outputs": [],
      "source": [
        "import torch\n",
        "from diffusers import StableDiffusionPipeline, DPMSolverMultistepScheduler\n",
        "\n",
        "model_id = \"stabilityai/stable-diffusion-2-1\"\n",
        "\n",
        "# Use the DPMSolverMultistepScheduler (DPM-Solver++) scheduler here instead\n",
        "pipe = StableDiffusionPipeline.from_pretrained(model_id, torch_dtype=torch.float16)\n",
        "\n",
        "pipe.scheduler = DPMSolverMultistepScheduler.from_config(pipe.scheduler.config)\n",
        "\n",
        "pipe = pipe.to(\"cuda\")\n",
        "\n",
        "prompt = \"\"\"Photorealistic abandoned space station interior, shot on Sony A7SIII. Emergency lights casting red glow on metallic walls,\n",
        "floating debris in zero gravity. Dust particles catching light, detailed control panels with authentic displays, worn metal\n",
        "textures. Natural light from Earth visible through cracked viewport. Documentary photography style, high dynamic range.\"\"\"\n",
        "\n",
        "negative_prompt = \"cartoon, anime, illustration, painted, artificial, oversaturated, low quality, blurry, noisy, text, watermark\"\n",
        "\n",
        "image = pipe(prompt = prompt,\n",
        "             negative_prompt = negative_prompt,\n",
        "             guidance_scale=7).images[0]\n",
        "\n",
        "image.save(\"space_station.png\")"
      ]
    },
    {
      "cell_type": "code",
      "execution_count": null,
      "metadata": {
        "id": "eMlTmYSJ5Zwi"
      },
      "outputs": [],
      "source": [
        "image"
      ]
    },
    {
      "cell_type": "markdown",
      "metadata": {
        "id": "CiQHrhTyXQLP"
      },
      "source": [
        "## Generate Text Embeddings\n"
      ]
    },
    {
      "cell_type": "code",
      "execution_count": null,
      "metadata": {
        "id": "3Hjcr0dfXQGw"
      },
      "outputs": [],
      "source": [
        "!pip install -q sentence-transformers"
      ]
    },
    {
      "cell_type": "code",
      "execution_count": null,
      "metadata": {
        "collapsed": true,
        "id": "3IWKI7QcXQEj"
      },
      "outputs": [],
      "source": [
        "from sentence_transformers import SentenceTransformer\n",
        "\n",
        "sentences = [\n",
        "    \"\"\"GAIA's questions are rooted in practical use cases, \\\n",
        "requiring AI systems to interact with a diverse and uncertain world, \\\n",
        "reflecting real-world applications.\", \" GAIA questions require accurate \\\n",
        "execution of complex sequences of actions, akin to the Proof of Work concept, \\\n",
        "where the solution is simple to verify but challenging to generate.\"\"\"\n",
        "]\n",
        "\n",
        "model = SentenceTransformer(\"all-mpnet-base-v2\", use_auth_token=HF_API_TOKEN)\n",
        "embeddings = model.encode(sentences)\n",
        "print(embeddings)"
      ]
    },
    {
      "cell_type": "markdown",
      "metadata": {
        "id": "L1bBync_X_9C"
      },
      "source": [
        "## Image Captioning\n"
      ]
    },
    {
      "cell_type": "code",
      "execution_count": null,
      "metadata": {
        "id": "ycDn9UJZXQCO"
      },
      "outputs": [],
      "source": [
        "from transformers import pipeline\n",
        "\n",
        "image_to_text = pipeline(\n",
        "    \"image-to-text\", model=\"nlpconnect/vit-gpt2-image-captioning\", device=\"cuda\"\n",
        ")\n",
        "\n",
        "caption = image_to_text(\"http://images.cocodataset.org/val2017/000000039769.jpg\")"
      ]
    },
    {
      "cell_type": "code",
      "execution_count": null,
      "metadata": {
        "id": "B9eayYkFXP_z"
      },
      "outputs": [],
      "source": [
        "print(caption[0][\"generated_text\"])"
      ]
    },
    {
      "cell_type": "markdown",
      "metadata": {
        "id": "fMSUG00wYar_"
      },
      "source": [
        "## Image Classification\n"
      ]
    },
    {
      "cell_type": "code",
      "execution_count": null,
      "metadata": {
        "id": "R-edgZyfXP9U"
      },
      "outputs": [],
      "source": [
        "from transformers import ViTImageProcessor, ViTForImageClassification\n",
        "from PIL import Image\n",
        "import requests\n",
        "\n",
        "url = \"http://images.cocodataset.org/val2017/000000039769.jpg\"\n",
        "image = Image.open(requests.get(url, stream=True).raw)\n",
        "\n",
        "processor = ViTImageProcessor.from_pretrained(\"google/vit-base-patch16-224\")\n",
        "model = ViTForImageClassification.from_pretrained(\"google/vit-base-patch16-224\")\n",
        "\n",
        "inputs = processor(images=image, return_tensors=\"pt\")\n",
        "outputs = model(**inputs)\n",
        "logits = outputs.logits\n",
        "# model predicts one of the 1000 ImageNet classes\n",
        "predicted_class_idx = logits.argmax(-1).item()"
      ]
    },
    {
      "cell_type": "code",
      "execution_count": null,
      "metadata": {
        "id": "ix2M53JrXP64"
      },
      "outputs": [],
      "source": [
        "print(\"Predicted class:\", model.config.id2label[predicted_class_idx])"
      ]
    },
    {
      "cell_type": "code",
      "execution_count": null,
      "metadata": {
        "id": "ihK9bLbnj4sB"
      },
      "outputs": [],
      "source": []
    }
  ],
  "metadata": {
    "accelerator": "GPU",
    "colab": {
      "gpuType": "T4",
      "provenance": [],
      "include_colab_link": true
    },
    "kernelspec": {
      "display_name": "Python 3",
      "name": "python3"
    },
    "language_info": {
      "name": "python",
      "version": "3.12.4"
    }
  },
  "nbformat": 4,
  "nbformat_minor": 0
}